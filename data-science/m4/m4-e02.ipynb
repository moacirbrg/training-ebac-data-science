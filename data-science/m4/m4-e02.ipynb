{
 "cells": [
  {
   "cell_type": "markdown",
   "metadata": {},
   "source": [
    "## Exercício 1: Vestibular\n",
    "\n",
    "Considere que a os dados gerados na célula abaixo contêm o número de acertos de 100 alunos em um vestibular para um curso de exatas, divididas pelos respectivos assuntos. Considere que cada assunto possui um número de questões conforme a tabela abaixo:\n",
    "\n",
    "| assunto | número de questões |\n",
    "|:---:|:---:|\n",
    "| Matemática | 24 |\n",
    "| Português | 18 |\n",
    "| Geografia | 8 |\n",
    "| Inglês | 8 |\n",
    "| História | 8 |\n",
    "| Física | 12 |\n",
    "| Química | 12 |\n",
    "\n",
    "Usando os comandos de operações com DataFrames que você aprendeu na Aula 03, calcule:\n",
    "\n",
    "1. (operações com escalar) Calcule o percentual de acerto dos alunos por assunto.  \n",
    "2. (operações entre *DataFrames) Calcule o total de acertos de cada aluno.  \n",
    "3. Calcule o porcentual geral de cada aluno.  \n",
    "4. Suponha que a nota de corte para a segunda fase seja 45. Quantos alunos tiveram nota maior que 45?  "
   ]
  },
  {
   "cell_type": "code",
   "execution_count": 64,
   "metadata": {},
   "outputs": [],
   "source": [
    "import pandas as pd\n",
    "import numpy as np\n",
    "\n",
    "np.random.seed(42)\n",
    "df_mat = pd.DataFrame(np.random.randint(24, size=(100, 1)), columns=['Qt_acertos'])\n",
    "\n",
    "df_por = pd.DataFrame(np.random.randint(18, size=(100, 1)), columns=['Qt_acertos'])\n",
    "\n",
    "df_geo = pd.DataFrame(np.random.randint(8, size=(100, 1)), columns=['Qt_acertos'])\n",
    "\n",
    "df_ing = pd.DataFrame(np.random.randint(8, size=(100, 1)), columns=['Qt_acertos'])\n",
    "\n",
    "df_his = pd.DataFrame(np.random.randint(8, size=(100, 1)), columns=['Qt_acertos'])\n",
    "\n",
    "df_fis = pd.DataFrame(np.random.randint(12, size=(100, 1)), columns=['Qt_acertos'])\n",
    "\n",
    "df_qui = pd.DataFrame(np.random.randint(12, size=(100, 1)), columns=['Qt_acertos'])"
   ]
  },
  {
   "cell_type": "code",
   "execution_count": 65,
   "metadata": {},
   "outputs": [],
   "source": [
    "# 1) Seu código aqui\n",
    "pc_mat = df_mat / 24\n",
    "pc_por = df_por / 18\n",
    "pc_geo = df_geo /  8\n",
    "pc_ing = df_ing /  8\n",
    "pc_his = df_his /  8\n",
    "pc_fis = df_fis /  8\n",
    "pc_qui = df_qui /  8"
   ]
  },
  {
   "cell_type": "code",
   "execution_count": 66,
   "metadata": {},
   "outputs": [
    {
     "data": {
      "text/plain": "    Qt_acertos\n0           35\n1           48\n2           50\n3           32\n4           30\n..         ...\n95          34\n96          27\n97          40\n98          40\n99          42\n\n[100 rows x 1 columns]",
      "text/html": "<div>\n<style scoped>\n    .dataframe tbody tr th:only-of-type {\n        vertical-align: middle;\n    }\n\n    .dataframe tbody tr th {\n        vertical-align: top;\n    }\n\n    .dataframe thead th {\n        text-align: right;\n    }\n</style>\n<table border=\"1\" class=\"dataframe\">\n  <thead>\n    <tr style=\"text-align: right;\">\n      <th></th>\n      <th>Qt_acertos</th>\n    </tr>\n  </thead>\n  <tbody>\n    <tr>\n      <th>0</th>\n      <td>35</td>\n    </tr>\n    <tr>\n      <th>1</th>\n      <td>48</td>\n    </tr>\n    <tr>\n      <th>2</th>\n      <td>50</td>\n    </tr>\n    <tr>\n      <th>3</th>\n      <td>32</td>\n    </tr>\n    <tr>\n      <th>4</th>\n      <td>30</td>\n    </tr>\n    <tr>\n      <th>...</th>\n      <td>...</td>\n    </tr>\n    <tr>\n      <th>95</th>\n      <td>34</td>\n    </tr>\n    <tr>\n      <th>96</th>\n      <td>27</td>\n    </tr>\n    <tr>\n      <th>97</th>\n      <td>40</td>\n    </tr>\n    <tr>\n      <th>98</th>\n      <td>40</td>\n    </tr>\n    <tr>\n      <th>99</th>\n      <td>42</td>\n    </tr>\n  </tbody>\n</table>\n<p>100 rows × 1 columns</p>\n</div>"
     },
     "execution_count": 66,
     "metadata": {},
     "output_type": "execute_result"
    }
   ],
   "source": [
    "# 2) Seu código aqui\n",
    "total = df_mat + df_por + df_geo + df_ing + df_his + df_fis + df_qui\n",
    "total"
   ]
  },
  {
   "cell_type": "code",
   "execution_count": 67,
   "metadata": {},
   "outputs": [
    {
     "data": {
      "text/plain": "    Qt_acertos\n0     0.388889\n1     0.533333\n2     0.555556\n3     0.355556\n4     0.333333\n..         ...\n95    0.377778\n96    0.300000\n97    0.444444\n98    0.444444\n99    0.466667\n\n[100 rows x 1 columns]",
      "text/html": "<div>\n<style scoped>\n    .dataframe tbody tr th:only-of-type {\n        vertical-align: middle;\n    }\n\n    .dataframe tbody tr th {\n        vertical-align: top;\n    }\n\n    .dataframe thead th {\n        text-align: right;\n    }\n</style>\n<table border=\"1\" class=\"dataframe\">\n  <thead>\n    <tr style=\"text-align: right;\">\n      <th></th>\n      <th>Qt_acertos</th>\n    </tr>\n  </thead>\n  <tbody>\n    <tr>\n      <th>0</th>\n      <td>0.388889</td>\n    </tr>\n    <tr>\n      <th>1</th>\n      <td>0.533333</td>\n    </tr>\n    <tr>\n      <th>2</th>\n      <td>0.555556</td>\n    </tr>\n    <tr>\n      <th>3</th>\n      <td>0.355556</td>\n    </tr>\n    <tr>\n      <th>4</th>\n      <td>0.333333</td>\n    </tr>\n    <tr>\n      <th>...</th>\n      <td>...</td>\n    </tr>\n    <tr>\n      <th>95</th>\n      <td>0.377778</td>\n    </tr>\n    <tr>\n      <th>96</th>\n      <td>0.300000</td>\n    </tr>\n    <tr>\n      <th>97</th>\n      <td>0.444444</td>\n    </tr>\n    <tr>\n      <th>98</th>\n      <td>0.444444</td>\n    </tr>\n    <tr>\n      <th>99</th>\n      <td>0.466667</td>\n    </tr>\n  </tbody>\n</table>\n<p>100 rows × 1 columns</p>\n</div>"
     },
     "execution_count": 67,
     "metadata": {},
     "output_type": "execute_result"
    }
   ],
   "source": [
    "# 3) Seu código aqui\n",
    "total/90"
   ]
  },
  {
   "cell_type": "code",
   "execution_count": 68,
   "metadata": {},
   "outputs": [
    {
     "data": {
      "text/plain": "Qt_acertos    31\ndtype: int64"
     },
     "execution_count": 68,
     "metadata": {},
     "output_type": "execute_result"
    }
   ],
   "source": [
    "# 4) Seu código aqui\n",
    "total_gt_45 = total[total['Qt_acertos'] > 45]\n",
    "total_gt_45.count()"
   ]
  },
  {
   "cell_type": "markdown",
   "metadata": {},
   "source": [
    "## 2) Vestibular II\n",
    "\n",
    "Ainda sobre o mesmo banco de dados:\n",
    "\n",
    "1. Neste vestibular, quem 'zera' em matemática, física ou química está desqualificado. Monte um novo *DataFrame* com os alunos desqualificados por este critério.\n",
    "2. Quantos são esses alunos?\n",
    "3. Qual a média desses alunos em história e geografia?\n",
    "4. Monte um *DataFrame* com os alunos que passaram para a segunda fase. Repare que estes alunos não podem ter sido desqualificados."
   ]
  },
  {
   "cell_type": "code",
   "execution_count": 69,
   "metadata": {},
   "outputs": [
    {
     "data": {
      "text/plain": "    Qt_acertos\n3           32\n6           29\n10          31\n12          42\n14          31\n20          53\n25          27\n26          40\n27          50\n33          39\n35          48\n49          19\n56          39\n65          24\n66          31\n72          50\n73          37\n74          39\n84          26\n89          63\n92          40\n94          25\n98          40",
      "text/html": "<div>\n<style scoped>\n    .dataframe tbody tr th:only-of-type {\n        vertical-align: middle;\n    }\n\n    .dataframe tbody tr th {\n        vertical-align: top;\n    }\n\n    .dataframe thead th {\n        text-align: right;\n    }\n</style>\n<table border=\"1\" class=\"dataframe\">\n  <thead>\n    <tr style=\"text-align: right;\">\n      <th></th>\n      <th>Qt_acertos</th>\n    </tr>\n  </thead>\n  <tbody>\n    <tr>\n      <th>3</th>\n      <td>32</td>\n    </tr>\n    <tr>\n      <th>6</th>\n      <td>29</td>\n    </tr>\n    <tr>\n      <th>10</th>\n      <td>31</td>\n    </tr>\n    <tr>\n      <th>12</th>\n      <td>42</td>\n    </tr>\n    <tr>\n      <th>14</th>\n      <td>31</td>\n    </tr>\n    <tr>\n      <th>20</th>\n      <td>53</td>\n    </tr>\n    <tr>\n      <th>25</th>\n      <td>27</td>\n    </tr>\n    <tr>\n      <th>26</th>\n      <td>40</td>\n    </tr>\n    <tr>\n      <th>27</th>\n      <td>50</td>\n    </tr>\n    <tr>\n      <th>33</th>\n      <td>39</td>\n    </tr>\n    <tr>\n      <th>35</th>\n      <td>48</td>\n    </tr>\n    <tr>\n      <th>49</th>\n      <td>19</td>\n    </tr>\n    <tr>\n      <th>56</th>\n      <td>39</td>\n    </tr>\n    <tr>\n      <th>65</th>\n      <td>24</td>\n    </tr>\n    <tr>\n      <th>66</th>\n      <td>31</td>\n    </tr>\n    <tr>\n      <th>72</th>\n      <td>50</td>\n    </tr>\n    <tr>\n      <th>73</th>\n      <td>37</td>\n    </tr>\n    <tr>\n      <th>74</th>\n      <td>39</td>\n    </tr>\n    <tr>\n      <th>84</th>\n      <td>26</td>\n    </tr>\n    <tr>\n      <th>89</th>\n      <td>63</td>\n    </tr>\n    <tr>\n      <th>92</th>\n      <td>40</td>\n    </tr>\n    <tr>\n      <th>94</th>\n      <td>25</td>\n    </tr>\n    <tr>\n      <th>98</th>\n      <td>40</td>\n    </tr>\n  </tbody>\n</table>\n</div>"
     },
     "execution_count": 69,
     "metadata": {},
     "output_type": "execute_result"
    }
   ],
   "source": [
    "# 1) eliminados\n",
    "df_eliminados = total[(df_mat['Qt_acertos'] == 0) | \n",
    "                      (df_fis['Qt_acertos'] == 0) | \n",
    "                      (df_qui['Qt_acertos'] == 0)]\n",
    "\n",
    "df_eliminados"
   ]
  },
  {
   "cell_type": "code",
   "execution_count": 70,
   "outputs": [
    {
     "data": {
      "text/plain": "Qt_acertos    23\ndtype: int64"
     },
     "execution_count": 70,
     "metadata": {},
     "output_type": "execute_result"
    }
   ],
   "source": [
    "# 2) contagem de alunos eliminados\n",
    "df_eliminados.count()"
   ],
   "metadata": {
    "collapsed": false
   }
  },
  {
   "cell_type": "code",
   "execution_count": 71,
   "outputs": [
    {
     "name": "stdout",
     "output_type": "stream",
     "text": [
      "Média de acertos em história: 3.43\n",
      "Média de acertos em geografia: 3.22\n",
      "Média percentual de acertos em história: 0.43\n",
      "Média percentual de acertos em geografia: 0.40\n"
     ]
    }
   ],
   "source": [
    "# 3) média de alunos eliminados em história e geografia\n",
    "df_eliminados_his = df_his.iloc[df_eliminados.index]\n",
    "elimandos_media_acertos_his = df_eliminados_his['Qt_acertos'].mean()\n",
    "elimandos_media_percentual_his = elimandos_media_acertos_his / 8\n",
    "\n",
    "df_eliminados_geo = df_geo.iloc[df_eliminados.index]\n",
    "elimandos_media_acertos_geo = df_eliminados_geo['Qt_acertos'].mean()\n",
    "elimandos_media_percentual_geo = elimandos_media_acertos_geo / 8\n",
    "\n",
    "print(f'Média de acertos em história: {elimandos_media_acertos_his:.2f}')\n",
    "print(f'Média de acertos em geografia: {elimandos_media_acertos_geo:.2f}')\n",
    "\n",
    "print(f'Média percentual de acertos em história: {elimandos_media_percentual_his:.2f}')\n",
    "print(f'Média percentual de acertos em geografia: {elimandos_media_percentual_geo:.2f}')"
   ],
   "metadata": {
    "collapsed": false
   }
  },
  {
   "cell_type": "markdown",
   "metadata": {},
   "source": [
    "## 3) Vacinações no Acre\n",
    "Vamos trabalhar agora com a base de vacinações no Acre. Para facilitar a sua vida, copiamos o link do arquivo na célula abaixo.\n",
    "\n",
    "1. Quantas vacinas estão registradas nessa base?  \n",
    "2. Quantos pacientes foram vacinados? (considere um paciente para cada valor único de ```paciente_id```)  \n",
    "3. Quantos pacientes únicos tomaram a primeira dose? OBS: Há um caractere especial neste campo. Receba os valores do campo com o método ```.unique()```.   \n",
    "4. Quantos pacientes com menos de 18 anos foram vacinados?  \n",
    "5. Quantos estabelecimentos aplicaram vacina no Acre?\n",
    "\n",
    "\n",
    "**OBS:** O portal do DATASUS pode apresentar instabilidades, retornando um erro na segunda célula abaixo. Por este motivo está disponível uma base estática, que se for baixada para o seu *working directory* pode ser lida com este comando: ```df = pd.read_csv('registros de vacinacao covid ACRE.csv', sep=';')```.\n",
    "\n",
    "**OBS2:** Para saber qual é o seu working directory, rode no jupyter: ```!pwd```."
   ]
  },
  {
   "cell_type": "code",
   "execution_count": 72,
   "metadata": {},
   "outputs": [],
   "source": [
    "arquivo = 'https://moacirbrg-ebac.s3.sa-east-1.amazonaws.com/registros-de-vacinacao-covid-acre.csv'"
   ]
  },
  {
   "cell_type": "code",
   "execution_count": 73,
   "metadata": {},
   "outputs": [],
   "source": [
    "# 1) Sua solução aqui\n",
    "df = pd.read_csv(arquivo, sep=';')"
   ]
  },
  {
   "cell_type": "code",
   "execution_count": 74,
   "metadata": {},
   "outputs": [
    {
     "data": {
      "text/plain": "                                 document_id  \\\n0  b19cd280-474c-4c22-a35d-8c06bc04a4e0-i0b0   \n1  a1acc0b6-1cf6-4c4b-adcb-06b473a0faaf-i0b0   \n2  af279a98-ba1f-47ea-8214-314a98040b0d-i0b0   \n3  4879308e-5050-46bb-b8e2-11fa5646a05c-i0b0   \n4  000e911b-e3a4-4114-a735-d1f2e6e3797f-i0b0   \n\n                                         paciente_id  paciente_idade  \\\n0  2e091c9a37d3f50d1d705fc80c6448c6fc69b44da9e936...              69   \n1  f4e17a9e5354cb45e223d85eda02fb2f76048c801675f5...              81   \n2  6734b26bccf826130ebffa66575977bbe71477b12bcf42...              69   \n3  84a341fd350c1ba7117fccbb4d2df417bc0fac0fffac37...              51   \n4  c59571e19f368d4b0cf08cd3bcabb32e5cd8baad5340f6...              65   \n\n  paciente_datanascimento paciente_enumsexobiologico  paciente_racacor_codigo  \\\n0              1951-12-28                          F                        3   \n1              1939-11-22                          M                        3   \n2              1951-08-14                          M                        4   \n3              1969-12-15                          F                        3   \n4              1955-11-21                          M                        3   \n\n  paciente_racacor_valor  paciente_endereco_coibgemunicipio  \\\n0                  PARDA                           120050.0   \n1                  PARDA                           120040.0   \n2                AMARELA                           120020.0   \n3                  PARDA                           120040.0   \n4                  PARDA                           120040.0   \n\n   paciente_endereco_copais paciente_endereco_nmmunicipio  ...   vacina_lote  \\\n0                      10.0                SENA MADUREIRA  ...       210052A   \n1                      10.0                    RIO BRANCO  ...        210110   \n2                      10.0               CRUZEIRO DO SUL  ...        210135   \n3                      10.0                    RIO BRANCO  ...     202010040   \n4                      10.0                    RIO BRANCO  ...  212VCD001ZVB   \n\n  vacina_fabricante_nome  vacina_fabricante_referencia vacina_dataaplicacao  \\\n0      FUNDACAO BUTANTAN   Organization/61189445000156           2021-03-23   \n1      FUNDACAO BUTANTAN   Organization/61189445000156           2021-04-29   \n2      FUNDACAO BUTANTAN   Organization/61189445000156           2021-04-16   \n3      FUNDACAO BUTANTAN   Organization/61189445000156           2021-02-19   \n4  FUNDACAO OSWALDO CRUZ   Organization/33781055000135           2021-03-29   \n\n   vacina_descricao_dose vacina_codigo                          vacina_nome  \\\n0                1ª Dose            86  Covid-19-Coronavac-Sinovac/Butantan   \n1                2ª Dose            86  Covid-19-Coronavac-Sinovac/Butantan   \n2                1ª Dose            86  Covid-19-Coronavac-Sinovac/Butantan   \n3                2ª Dose            86  Covid-19-Coronavac-Sinovac/Butantan   \n4                1ª Dose            85         Vacina Covid-19 - Covishield   \n\n   sistema_origem      data_importacao_rnds id_sistema_origem  \n0        Novo PNI  2021-03-25T03:27:19.000Z               NaN  \n1        Novo PNI  2021-04-30T16:03:14.000Z               NaN  \n2        Novo PNI  2021-04-16T15:54:39.000Z               NaN  \n3        Novo PNI  2021-03-10T14:40:54.000Z               NaN  \n4        Novo PNI  2021-04-03T19:44:28.000Z               NaN  \n\n[5 rows x 34 columns]",
      "text/html": "<div>\n<style scoped>\n    .dataframe tbody tr th:only-of-type {\n        vertical-align: middle;\n    }\n\n    .dataframe tbody tr th {\n        vertical-align: top;\n    }\n\n    .dataframe thead th {\n        text-align: right;\n    }\n</style>\n<table border=\"1\" class=\"dataframe\">\n  <thead>\n    <tr style=\"text-align: right;\">\n      <th></th>\n      <th>document_id</th>\n      <th>paciente_id</th>\n      <th>paciente_idade</th>\n      <th>paciente_datanascimento</th>\n      <th>paciente_enumsexobiologico</th>\n      <th>paciente_racacor_codigo</th>\n      <th>paciente_racacor_valor</th>\n      <th>paciente_endereco_coibgemunicipio</th>\n      <th>paciente_endereco_copais</th>\n      <th>paciente_endereco_nmmunicipio</th>\n      <th>...</th>\n      <th>vacina_lote</th>\n      <th>vacina_fabricante_nome</th>\n      <th>vacina_fabricante_referencia</th>\n      <th>vacina_dataaplicacao</th>\n      <th>vacina_descricao_dose</th>\n      <th>vacina_codigo</th>\n      <th>vacina_nome</th>\n      <th>sistema_origem</th>\n      <th>data_importacao_rnds</th>\n      <th>id_sistema_origem</th>\n    </tr>\n  </thead>\n  <tbody>\n    <tr>\n      <th>0</th>\n      <td>b19cd280-474c-4c22-a35d-8c06bc04a4e0-i0b0</td>\n      <td>2e091c9a37d3f50d1d705fc80c6448c6fc69b44da9e936...</td>\n      <td>69</td>\n      <td>1951-12-28</td>\n      <td>F</td>\n      <td>3</td>\n      <td>PARDA</td>\n      <td>120050.0</td>\n      <td>10.0</td>\n      <td>SENA MADUREIRA</td>\n      <td>...</td>\n      <td>210052A</td>\n      <td>FUNDACAO BUTANTAN</td>\n      <td>Organization/61189445000156</td>\n      <td>2021-03-23</td>\n      <td>1ª Dose</td>\n      <td>86</td>\n      <td>Covid-19-Coronavac-Sinovac/Butantan</td>\n      <td>Novo PNI</td>\n      <td>2021-03-25T03:27:19.000Z</td>\n      <td>NaN</td>\n    </tr>\n    <tr>\n      <th>1</th>\n      <td>a1acc0b6-1cf6-4c4b-adcb-06b473a0faaf-i0b0</td>\n      <td>f4e17a9e5354cb45e223d85eda02fb2f76048c801675f5...</td>\n      <td>81</td>\n      <td>1939-11-22</td>\n      <td>M</td>\n      <td>3</td>\n      <td>PARDA</td>\n      <td>120040.0</td>\n      <td>10.0</td>\n      <td>RIO BRANCO</td>\n      <td>...</td>\n      <td>210110</td>\n      <td>FUNDACAO BUTANTAN</td>\n      <td>Organization/61189445000156</td>\n      <td>2021-04-29</td>\n      <td>2ª Dose</td>\n      <td>86</td>\n      <td>Covid-19-Coronavac-Sinovac/Butantan</td>\n      <td>Novo PNI</td>\n      <td>2021-04-30T16:03:14.000Z</td>\n      <td>NaN</td>\n    </tr>\n    <tr>\n      <th>2</th>\n      <td>af279a98-ba1f-47ea-8214-314a98040b0d-i0b0</td>\n      <td>6734b26bccf826130ebffa66575977bbe71477b12bcf42...</td>\n      <td>69</td>\n      <td>1951-08-14</td>\n      <td>M</td>\n      <td>4</td>\n      <td>AMARELA</td>\n      <td>120020.0</td>\n      <td>10.0</td>\n      <td>CRUZEIRO DO SUL</td>\n      <td>...</td>\n      <td>210135</td>\n      <td>FUNDACAO BUTANTAN</td>\n      <td>Organization/61189445000156</td>\n      <td>2021-04-16</td>\n      <td>1ª Dose</td>\n      <td>86</td>\n      <td>Covid-19-Coronavac-Sinovac/Butantan</td>\n      <td>Novo PNI</td>\n      <td>2021-04-16T15:54:39.000Z</td>\n      <td>NaN</td>\n    </tr>\n    <tr>\n      <th>3</th>\n      <td>4879308e-5050-46bb-b8e2-11fa5646a05c-i0b0</td>\n      <td>84a341fd350c1ba7117fccbb4d2df417bc0fac0fffac37...</td>\n      <td>51</td>\n      <td>1969-12-15</td>\n      <td>F</td>\n      <td>3</td>\n      <td>PARDA</td>\n      <td>120040.0</td>\n      <td>10.0</td>\n      <td>RIO BRANCO</td>\n      <td>...</td>\n      <td>202010040</td>\n      <td>FUNDACAO BUTANTAN</td>\n      <td>Organization/61189445000156</td>\n      <td>2021-02-19</td>\n      <td>2ª Dose</td>\n      <td>86</td>\n      <td>Covid-19-Coronavac-Sinovac/Butantan</td>\n      <td>Novo PNI</td>\n      <td>2021-03-10T14:40:54.000Z</td>\n      <td>NaN</td>\n    </tr>\n    <tr>\n      <th>4</th>\n      <td>000e911b-e3a4-4114-a735-d1f2e6e3797f-i0b0</td>\n      <td>c59571e19f368d4b0cf08cd3bcabb32e5cd8baad5340f6...</td>\n      <td>65</td>\n      <td>1955-11-21</td>\n      <td>M</td>\n      <td>3</td>\n      <td>PARDA</td>\n      <td>120040.0</td>\n      <td>10.0</td>\n      <td>RIO BRANCO</td>\n      <td>...</td>\n      <td>212VCD001ZVB</td>\n      <td>FUNDACAO OSWALDO CRUZ</td>\n      <td>Organization/33781055000135</td>\n      <td>2021-03-29</td>\n      <td>1ª Dose</td>\n      <td>85</td>\n      <td>Vacina Covid-19 - Covishield</td>\n      <td>Novo PNI</td>\n      <td>2021-04-03T19:44:28.000Z</td>\n      <td>NaN</td>\n    </tr>\n  </tbody>\n</table>\n<p>5 rows × 34 columns</p>\n</div>"
     },
     "execution_count": 74,
     "metadata": {},
     "output_type": "execute_result"
    }
   ],
   "source": [
    "df.head()"
   ]
  },
  {
   "cell_type": "code",
   "execution_count": 75,
   "outputs": [
    {
     "data": {
      "text/plain": "5"
     },
     "execution_count": 75,
     "metadata": {},
     "output_type": "execute_result"
    }
   ],
   "source": [
    "# 1) Se a pergunta é \"vacina\", então a resposta é \"vacina_nome\"\n",
    "df['vacina_nome'].nunique()"
   ],
   "metadata": {
    "collapsed": false
   }
  },
  {
   "cell_type": "code",
   "execution_count": 76,
   "metadata": {},
   "outputs": [
    {
     "data": {
      "text/plain": "169071"
     },
     "execution_count": 76,
     "metadata": {},
     "output_type": "execute_result"
    }
   ],
   "source": [
    "# 1) Contudo acho que vocês queriam perguntar \"vacinações\", então a resposta é shape[0]\n",
    "df.shape[0]"
   ]
  },
  {
   "cell_type": "code",
   "execution_count": 77,
   "metadata": {},
   "outputs": [
    {
     "data": {
      "text/plain": "120517"
     },
     "execution_count": 77,
     "metadata": {},
     "output_type": "execute_result"
    }
   ],
   "source": [
    "# 2) Paciêntes únicos vacinados\n",
    "df['paciente_id'].nunique()"
   ]
  },
  {
   "cell_type": "code",
   "execution_count": 78,
   "metadata": {},
   "outputs": [
    {
     "data": {
      "text/plain": "119713"
     },
     "execution_count": 78,
     "metadata": {},
     "output_type": "execute_result"
    }
   ],
   "source": [
    "# 3) Paciêntes únicos vacinados com a primeira dose\n",
    "df.loc[df['vacina_descricao_dose'].str.contains('1')]['paciente_id'].nunique()"
   ]
  },
  {
   "cell_type": "code",
   "execution_count": 79,
   "metadata": {},
   "outputs": [
    {
     "data": {
      "text/plain": "119713"
     },
     "execution_count": 79,
     "metadata": {},
     "output_type": "execute_result"
    }
   ],
   "source": [
    "# 3) solução alternativa\n",
    "primeira_dose = df['vacina_descricao_dose'].unique()[0]\n",
    "df_primeira_dose = df[df['vacina_descricao_dose'] == primeira_dose]\n",
    "df_primeira_dose['paciente_id'].nunique()"
   ]
  },
  {
   "cell_type": "code",
   "execution_count": 80,
   "metadata": {},
   "outputs": [
    {
     "data": {
      "text/plain": "47"
     },
     "execution_count": 80,
     "metadata": {},
     "output_type": "execute_result"
    }
   ],
   "source": [
    "# 4) Paciêntes com menos de 18 anos vacinados\n",
    "df_menor = df[df[\"paciente_idade\"]<18]\n",
    "df_menor['paciente_id'].nunique()"
   ]
  },
  {
   "cell_type": "code",
   "execution_count": 81,
   "metadata": {},
   "outputs": [
    {
     "data": {
      "text/plain": "42"
     },
     "execution_count": 81,
     "metadata": {},
     "output_type": "execute_result"
    }
   ],
   "source": [
    "# 5) Estabelecimentos que aplicaram vacina no Acre\n",
    "df['estabelecimento_razaosocial'].nunique()"
   ]
  },
  {
   "cell_type": "markdown",
   "metadata": {},
   "source": [
    "## 4) Vacinação II\n",
    "Gere um *DataFrame* que contenha somente os estabelecimentos que aplicaram vcinas a menores de 18 anos. Nesse *DataFrame* devem conter somente os dados dos estabelecimentos, mais uma coluna sendo a quantidade de vacinas que o estabelecimento aplicou a menores de 18 anos.  \n",
    "  \n",
    "1. crie uma cópia do *DataFrame* original, contendo somente os registros de vacinas realizadas a menores de 18 anos.  \n",
    "2. crie uma lista das colunas desse *DataFrame* com o atributo de *DataFrame* **.columns()**  \n",
    "3. Nesse *DataFrame* faça uma contagem do campo ```vacina_categoria_nome```.\n",
    "3. a partir da lista de colunas, escolha somente aquelas que são referentes ao estabelecimento, faça uma lista com esses valores.  \n",
    "4. usando o método *.loc*, selecione somente essas variáveis  \n",
    "5. Aplique o método **.drop_duplicates** e crie uma lista com uma linha para cada estabelecimento, com os dados do estabelecimento  "
   ]
  },
  {
   "cell_type": "code",
   "execution_count": 82,
   "metadata": {},
   "outputs": [
    {
     "data": {
      "text/plain": "55"
     },
     "execution_count": 82,
     "metadata": {},
     "output_type": "execute_result"
    }
   ],
   "source": [
    "# 1) Dataframe com vacinas aplicadas a menores de 18 anos\n",
    "df_menor = df[df[\"paciente_idade\"]<18].copy()\n",
    "df_menor.shape[0]"
   ]
  },
  {
   "cell_type": "code",
   "execution_count": 83,
   "metadata": {},
   "outputs": [
    {
     "data": {
      "text/plain": "Index(['document_id', 'paciente_id', 'paciente_idade',\n       'paciente_datanascimento', 'paciente_enumsexobiologico',\n       'paciente_racacor_codigo', 'paciente_racacor_valor',\n       'paciente_endereco_coibgemunicipio', 'paciente_endereco_copais',\n       'paciente_endereco_nmmunicipio', 'paciente_endereco_nmpais',\n       'paciente_endereco_uf', 'paciente_endereco_cep',\n       'paciente_nacionalidade_enumnacionalidade', 'estabelecimento_valor',\n       'estabelecimento_razaosocial', 'estalecimento_nofantasia',\n       'estabelecimento_municipio_codigo', 'estabelecimento_municipio_nome',\n       'estabelecimento_uf', 'vacina_grupoatendimento_codigo',\n       'vacina_grupoatendimento_nome', 'vacina_categoria_codigo',\n       'vacina_categoria_nome', 'vacina_lote', 'vacina_fabricante_nome',\n       'vacina_fabricante_referencia', 'vacina_dataaplicacao',\n       'vacina_descricao_dose', 'vacina_codigo', 'vacina_nome',\n       'sistema_origem', 'data_importacao_rnds', 'id_sistema_origem'],\n      dtype='object')"
     },
     "execution_count": 83,
     "metadata": {},
     "output_type": "execute_result"
    }
   ],
   "source": [
    "# 2) Colunas do df_menor\n",
    "df_menor.columns"
   ]
  },
  {
   "cell_type": "code",
   "execution_count": 84,
   "metadata": {},
   "outputs": [
    {
     "data": {
      "text/plain": "Povos Indígenas                     33\nTrabalhadores de Saúde               9\nPovos e Comunidades Tradicionais     9\nComorbidades                         2\nFaixa Etária                         1\nName: vacina_categoria_nome, dtype: int64"
     },
     "execution_count": 84,
     "metadata": {},
     "output_type": "execute_result"
    }
   ],
   "source": [
    "# 3) Contagem por nome da categoria do vacinado\n",
    "df_menor['vacina_categoria_nome'].value_counts()"
   ]
  },
  {
   "cell_type": "code",
   "execution_count": 85,
   "metadata": {},
   "outputs": [],
   "source": [
    "# 4) Lista de variáveis do estabelecimento\n",
    "lista_variaveis = ['estabelecimento_valor',\n",
    "       'estabelecimento_razaosocial', 'estalecimento_nofantasia',\n",
    "       'estabelecimento_municipio_codigo', 'estabelecimento_municipio_nome',\n",
    "       'estabelecimento_uf']"
   ]
  },
  {
   "cell_type": "code",
   "execution_count": 86,
   "outputs": [],
   "source": [
    "# 5) Dataframe com variáveis do estabelecimento\n",
    "df_menor_lista = df_menor.loc[:,lista_variaveis]"
   ],
   "metadata": {
    "collapsed": false
   }
  },
  {
   "cell_type": "code",
   "execution_count": 87,
   "metadata": {},
   "outputs": [
    {
     "data": {
      "text/plain": "        estabelecimento_valor  \\\n1567                  2001314   \n6250                  6917291   \n9569                  6159087   \n11338                 2000040   \n15144                 7625855   \n17153                 6748759   \n18361                 6308740   \n18608                 2001748   \n20204                 6917682   \n21119                 6428940   \n29127                 6612385   \n57405                 9648968   \n61131                 6430201   \n68290                 6955525   \n69882                 5336171   \n70881                 6697151   \n101402                3323307   \n140895                7123043   \n\n                              estabelecimento_razaosocial  \\\n1567               PREFEITURA MUNICIPAL DE EPITACIOLANDIA   \n6250                   PREFEITURA MUNICIPAL DE RIO BRANCO   \n9569              PREFEITURA MUNICIPAL DE CRUZEIRO DO SUL   \n11338                       PREFEITURA MUNICIPAL DE FEIJO   \n15144   DISTRITO SANITARIO ESPECIAL INDIGENA ALTO RIO ...   \n17153   DISTRITO SANITARIO ESPECIAL INDIGENA ALTO RIO ...   \n18361   DISTRITO SANITARIO ESPECIAL INDIGENA ALTO RIO ...   \n18608                PREFEITURA MUNICIPAL DE PORTO WALTER   \n20204   DISTRITO SANITARIO ESPECIAL INDIGENA ALTO RIO ...   \n21119                PREFEITURA MUNICIPAL DE ASSIS BRASIL   \n29127                    PREFEITURA MUNICIPAL DE TARAUACA   \n57405   DISTRITO SANITARIO ESPECIAL DE SAUDE INDIGENA ...   \n61131     DISTRITO SANITARIO ESPECIAL INDIGENA ALTO JURUA   \n68290   DISTRITO SANITARIO ESPECIAL INDIGENA ALTO RIO ...   \n69882               SECRETARIA DE ESTADO DE SAUDE DO ACRE   \n70881                                 MINISTERIO DA SAUDE   \n101402                 PREFEITURA MUNICIPAL DE PORTO ACRE   \n140895                     PREFEITURA MUNICIPAL DE JORDAO   \n\n                                 estalecimento_nofantasia  \\\n1567                              ESF JOAO ALVES DA SILVA   \n6250    DEPARTAMENTO DE VIGILANCIA EPIDEMIOLOGICA E AM...   \n9569     SECRETARIA MUNICIPAL DE SAUDE DE CRUZEIRO DO SUL   \n11338                   CENTRO DE SAUDE DIAMANTINO MACEDO   \n15144                   POLO BASE DE MARECHAL THAUMATURGO   \n17153                                  POLO BASE DE FEIJO   \n18361                           POLO BASE DE PORTO WALTER   \n18608                       UBS VICENTE VARELA DE ALMEIDA   \n20204                        POLO BASE DE CRUZEIRO DO SUL   \n21119                           POLO BASE DE ASSIS BRASIL   \n29127   UNIDADE ASSISTENCIAL A SAUDE INDIGENA DE TARAU...   \n57405                      POLO INDIGENA DE MANOEL URBANO   \n61131                                  POLO BASE INDIGENA   \n68290                            POLO BASE DE MANCIO LIMA   \n69882                          HOSPITAL REGIONAL DO JURUA   \n70881     DISTRITO SANITARIO ESPECIAL INDIGENA ALTO PURUS   \n101402    UNIDADE DE SAUDE DA FAMILIA ALVARO ARAUJO NOBRE   \n140895                        SAUDE DA FAMILIA RIBEIRINHA   \n\n        estabelecimento_municipio_codigo estabelecimento_municipio_nome  \\\n1567                              120025                 EPITACIOLANDIA   \n6250                              120040                     RIO BRANCO   \n9569                              120020                CRUZEIRO DO SUL   \n11338                             120030                          FEIJO   \n15144                             120035           MARECHAL THAUMATURGO   \n17153                             120030                          FEIJO   \n18361                             120039                   PORTO WALTER   \n18608                             120039                   PORTO WALTER   \n20204                             120020                CRUZEIRO DO SUL   \n21119                             120005                   ASSIS BRASIL   \n29127                             120060                       TARAUACA   \n57405                             120034                  MANOEL URBANO   \n61131                             120032                         JORDAO   \n68290                             120033                    MANCIO LIMA   \n69882                             120020                CRUZEIRO DO SUL   \n70881                             120050                 SENA MADUREIRA   \n101402                            120080                     PORTO ACRE   \n140895                            120032                         JORDAO   \n\n       estabelecimento_uf  \n1567                   AC  \n6250                   AC  \n9569                   AC  \n11338                  AC  \n15144                  AC  \n17153                  AC  \n18361                  AC  \n18608                  AC  \n20204                  AC  \n21119                  AC  \n29127                  AC  \n57405                  AC  \n61131                  AC  \n68290                  AC  \n69882                  AC  \n70881                  AC  \n101402                 AC  \n140895                 AC  ",
      "text/html": "<div>\n<style scoped>\n    .dataframe tbody tr th:only-of-type {\n        vertical-align: middle;\n    }\n\n    .dataframe tbody tr th {\n        vertical-align: top;\n    }\n\n    .dataframe thead th {\n        text-align: right;\n    }\n</style>\n<table border=\"1\" class=\"dataframe\">\n  <thead>\n    <tr style=\"text-align: right;\">\n      <th></th>\n      <th>estabelecimento_valor</th>\n      <th>estabelecimento_razaosocial</th>\n      <th>estalecimento_nofantasia</th>\n      <th>estabelecimento_municipio_codigo</th>\n      <th>estabelecimento_municipio_nome</th>\n      <th>estabelecimento_uf</th>\n    </tr>\n  </thead>\n  <tbody>\n    <tr>\n      <th>1567</th>\n      <td>2001314</td>\n      <td>PREFEITURA MUNICIPAL DE EPITACIOLANDIA</td>\n      <td>ESF JOAO ALVES DA SILVA</td>\n      <td>120025</td>\n      <td>EPITACIOLANDIA</td>\n      <td>AC</td>\n    </tr>\n    <tr>\n      <th>6250</th>\n      <td>6917291</td>\n      <td>PREFEITURA MUNICIPAL DE RIO BRANCO</td>\n      <td>DEPARTAMENTO DE VIGILANCIA EPIDEMIOLOGICA E AM...</td>\n      <td>120040</td>\n      <td>RIO BRANCO</td>\n      <td>AC</td>\n    </tr>\n    <tr>\n      <th>9569</th>\n      <td>6159087</td>\n      <td>PREFEITURA MUNICIPAL DE CRUZEIRO DO SUL</td>\n      <td>SECRETARIA MUNICIPAL DE SAUDE DE CRUZEIRO DO SUL</td>\n      <td>120020</td>\n      <td>CRUZEIRO DO SUL</td>\n      <td>AC</td>\n    </tr>\n    <tr>\n      <th>11338</th>\n      <td>2000040</td>\n      <td>PREFEITURA MUNICIPAL DE FEIJO</td>\n      <td>CENTRO DE SAUDE DIAMANTINO MACEDO</td>\n      <td>120030</td>\n      <td>FEIJO</td>\n      <td>AC</td>\n    </tr>\n    <tr>\n      <th>15144</th>\n      <td>7625855</td>\n      <td>DISTRITO SANITARIO ESPECIAL INDIGENA ALTO RIO ...</td>\n      <td>POLO BASE DE MARECHAL THAUMATURGO</td>\n      <td>120035</td>\n      <td>MARECHAL THAUMATURGO</td>\n      <td>AC</td>\n    </tr>\n    <tr>\n      <th>17153</th>\n      <td>6748759</td>\n      <td>DISTRITO SANITARIO ESPECIAL INDIGENA ALTO RIO ...</td>\n      <td>POLO BASE DE FEIJO</td>\n      <td>120030</td>\n      <td>FEIJO</td>\n      <td>AC</td>\n    </tr>\n    <tr>\n      <th>18361</th>\n      <td>6308740</td>\n      <td>DISTRITO SANITARIO ESPECIAL INDIGENA ALTO RIO ...</td>\n      <td>POLO BASE DE PORTO WALTER</td>\n      <td>120039</td>\n      <td>PORTO WALTER</td>\n      <td>AC</td>\n    </tr>\n    <tr>\n      <th>18608</th>\n      <td>2001748</td>\n      <td>PREFEITURA MUNICIPAL DE PORTO WALTER</td>\n      <td>UBS VICENTE VARELA DE ALMEIDA</td>\n      <td>120039</td>\n      <td>PORTO WALTER</td>\n      <td>AC</td>\n    </tr>\n    <tr>\n      <th>20204</th>\n      <td>6917682</td>\n      <td>DISTRITO SANITARIO ESPECIAL INDIGENA ALTO RIO ...</td>\n      <td>POLO BASE DE CRUZEIRO DO SUL</td>\n      <td>120020</td>\n      <td>CRUZEIRO DO SUL</td>\n      <td>AC</td>\n    </tr>\n    <tr>\n      <th>21119</th>\n      <td>6428940</td>\n      <td>PREFEITURA MUNICIPAL DE ASSIS BRASIL</td>\n      <td>POLO BASE DE ASSIS BRASIL</td>\n      <td>120005</td>\n      <td>ASSIS BRASIL</td>\n      <td>AC</td>\n    </tr>\n    <tr>\n      <th>29127</th>\n      <td>6612385</td>\n      <td>PREFEITURA MUNICIPAL DE TARAUACA</td>\n      <td>UNIDADE ASSISTENCIAL A SAUDE INDIGENA DE TARAU...</td>\n      <td>120060</td>\n      <td>TARAUACA</td>\n      <td>AC</td>\n    </tr>\n    <tr>\n      <th>57405</th>\n      <td>9648968</td>\n      <td>DISTRITO SANITARIO ESPECIAL DE SAUDE INDIGENA ...</td>\n      <td>POLO INDIGENA DE MANOEL URBANO</td>\n      <td>120034</td>\n      <td>MANOEL URBANO</td>\n      <td>AC</td>\n    </tr>\n    <tr>\n      <th>61131</th>\n      <td>6430201</td>\n      <td>DISTRITO SANITARIO ESPECIAL INDIGENA ALTO JURUA</td>\n      <td>POLO BASE INDIGENA</td>\n      <td>120032</td>\n      <td>JORDAO</td>\n      <td>AC</td>\n    </tr>\n    <tr>\n      <th>68290</th>\n      <td>6955525</td>\n      <td>DISTRITO SANITARIO ESPECIAL INDIGENA ALTO RIO ...</td>\n      <td>POLO BASE DE MANCIO LIMA</td>\n      <td>120033</td>\n      <td>MANCIO LIMA</td>\n      <td>AC</td>\n    </tr>\n    <tr>\n      <th>69882</th>\n      <td>5336171</td>\n      <td>SECRETARIA DE ESTADO DE SAUDE DO ACRE</td>\n      <td>HOSPITAL REGIONAL DO JURUA</td>\n      <td>120020</td>\n      <td>CRUZEIRO DO SUL</td>\n      <td>AC</td>\n    </tr>\n    <tr>\n      <th>70881</th>\n      <td>6697151</td>\n      <td>MINISTERIO DA SAUDE</td>\n      <td>DISTRITO SANITARIO ESPECIAL INDIGENA ALTO PURUS</td>\n      <td>120050</td>\n      <td>SENA MADUREIRA</td>\n      <td>AC</td>\n    </tr>\n    <tr>\n      <th>101402</th>\n      <td>3323307</td>\n      <td>PREFEITURA MUNICIPAL DE PORTO ACRE</td>\n      <td>UNIDADE DE SAUDE DA FAMILIA ALVARO ARAUJO NOBRE</td>\n      <td>120080</td>\n      <td>PORTO ACRE</td>\n      <td>AC</td>\n    </tr>\n    <tr>\n      <th>140895</th>\n      <td>7123043</td>\n      <td>PREFEITURA MUNICIPAL DE JORDAO</td>\n      <td>SAUDE DA FAMILIA RIBEIRINHA</td>\n      <td>120032</td>\n      <td>JORDAO</td>\n      <td>AC</td>\n    </tr>\n  </tbody>\n</table>\n</div>"
     },
     "execution_count": 87,
     "metadata": {},
     "output_type": "execute_result"
    }
   ],
   "source": [
    "# 6) Removendo duplicatas\n",
    "df_menor_lista = df_menor_lista.drop_duplicates()\n",
    "df_menor_lista"
   ]
  },
  {
   "cell_type": "code",
   "execution_count": 88,
   "outputs": [
    {
     "data": {
      "text/plain": "    estabelecimento_valor                        estabelecimento_razaosocial  \\\n0                 2000040                      PREFEITURA MUNICIPAL DE FEIJO   \n1                 2001314             PREFEITURA MUNICIPAL DE EPITACIOLANDIA   \n2                 2001748               PREFEITURA MUNICIPAL DE PORTO WALTER   \n3                 3323307                 PREFEITURA MUNICIPAL DE PORTO ACRE   \n4                 5336171              SECRETARIA DE ESTADO DE SAUDE DO ACRE   \n5                 6159087            PREFEITURA MUNICIPAL DE CRUZEIRO DO SUL   \n6                 6308740  DISTRITO SANITARIO ESPECIAL INDIGENA ALTO RIO ...   \n7                 6428940               PREFEITURA MUNICIPAL DE ASSIS BRASIL   \n8                 6430201    DISTRITO SANITARIO ESPECIAL INDIGENA ALTO JURUA   \n9                 6612385                   PREFEITURA MUNICIPAL DE TARAUACA   \n10                6697151                                MINISTERIO DA SAUDE   \n11                6748759  DISTRITO SANITARIO ESPECIAL INDIGENA ALTO RIO ...   \n12                6917291                 PREFEITURA MUNICIPAL DE RIO BRANCO   \n13                6917682  DISTRITO SANITARIO ESPECIAL INDIGENA ALTO RIO ...   \n14                6955525  DISTRITO SANITARIO ESPECIAL INDIGENA ALTO RIO ...   \n15                7123043                     PREFEITURA MUNICIPAL DE JORDAO   \n16                7625855  DISTRITO SANITARIO ESPECIAL INDIGENA ALTO RIO ...   \n17                9648968  DISTRITO SANITARIO ESPECIAL DE SAUDE INDIGENA ...   \n\n                             estalecimento_nofantasia  \\\n0                   CENTRO DE SAUDE DIAMANTINO MACEDO   \n1                             ESF JOAO ALVES DA SILVA   \n2                       UBS VICENTE VARELA DE ALMEIDA   \n3     UNIDADE DE SAUDE DA FAMILIA ALVARO ARAUJO NOBRE   \n4                          HOSPITAL REGIONAL DO JURUA   \n5    SECRETARIA MUNICIPAL DE SAUDE DE CRUZEIRO DO SUL   \n6                           POLO BASE DE PORTO WALTER   \n7                           POLO BASE DE ASSIS BRASIL   \n8                                  POLO BASE INDIGENA   \n9   UNIDADE ASSISTENCIAL A SAUDE INDIGENA DE TARAU...   \n10    DISTRITO SANITARIO ESPECIAL INDIGENA ALTO PURUS   \n11                                 POLO BASE DE FEIJO   \n12  DEPARTAMENTO DE VIGILANCIA EPIDEMIOLOGICA E AM...   \n13                       POLO BASE DE CRUZEIRO DO SUL   \n14                           POLO BASE DE MANCIO LIMA   \n15                        SAUDE DA FAMILIA RIBEIRINHA   \n16                  POLO BASE DE MARECHAL THAUMATURGO   \n17                     POLO INDIGENA DE MANOEL URBANO   \n\n    estabelecimento_municipio_codigo estabelecimento_municipio_nome  \\\n0                             120030                          FEIJO   \n1                             120025                 EPITACIOLANDIA   \n2                             120039                   PORTO WALTER   \n3                             120080                     PORTO ACRE   \n4                             120020                CRUZEIRO DO SUL   \n5                             120020                CRUZEIRO DO SUL   \n6                             120039                   PORTO WALTER   \n7                             120005                   ASSIS BRASIL   \n8                             120032                         JORDAO   \n9                             120060                       TARAUACA   \n10                            120050                 SENA MADUREIRA   \n11                            120030                          FEIJO   \n12                            120040                     RIO BRANCO   \n13                            120020                CRUZEIRO DO SUL   \n14                            120033                    MANCIO LIMA   \n15                            120032                         JORDAO   \n16                            120035           MARECHAL THAUMATURGO   \n17                            120034                  MANOEL URBANO   \n\n   estabelecimento_uf  qt_vacinas  \n0                  AC           3  \n1                  AC           1  \n2                  AC           8  \n3                  AC           1  \n4                  AC           1  \n5                  AC           3  \n6                  AC           2  \n7                  AC           3  \n8                  AC           4  \n9                  AC           2  \n10                 AC           1  \n11                 AC           6  \n12                 AC           4  \n13                 AC           1  \n14                 AC           3  \n15                 AC           1  \n16                 AC           9  \n17                 AC           2  ",
      "text/html": "<div>\n<style scoped>\n    .dataframe tbody tr th:only-of-type {\n        vertical-align: middle;\n    }\n\n    .dataframe tbody tr th {\n        vertical-align: top;\n    }\n\n    .dataframe thead th {\n        text-align: right;\n    }\n</style>\n<table border=\"1\" class=\"dataframe\">\n  <thead>\n    <tr style=\"text-align: right;\">\n      <th></th>\n      <th>estabelecimento_valor</th>\n      <th>estabelecimento_razaosocial</th>\n      <th>estalecimento_nofantasia</th>\n      <th>estabelecimento_municipio_codigo</th>\n      <th>estabelecimento_municipio_nome</th>\n      <th>estabelecimento_uf</th>\n      <th>qt_vacinas</th>\n    </tr>\n  </thead>\n  <tbody>\n    <tr>\n      <th>0</th>\n      <td>2000040</td>\n      <td>PREFEITURA MUNICIPAL DE FEIJO</td>\n      <td>CENTRO DE SAUDE DIAMANTINO MACEDO</td>\n      <td>120030</td>\n      <td>FEIJO</td>\n      <td>AC</td>\n      <td>3</td>\n    </tr>\n    <tr>\n      <th>1</th>\n      <td>2001314</td>\n      <td>PREFEITURA MUNICIPAL DE EPITACIOLANDIA</td>\n      <td>ESF JOAO ALVES DA SILVA</td>\n      <td>120025</td>\n      <td>EPITACIOLANDIA</td>\n      <td>AC</td>\n      <td>1</td>\n    </tr>\n    <tr>\n      <th>2</th>\n      <td>2001748</td>\n      <td>PREFEITURA MUNICIPAL DE PORTO WALTER</td>\n      <td>UBS VICENTE VARELA DE ALMEIDA</td>\n      <td>120039</td>\n      <td>PORTO WALTER</td>\n      <td>AC</td>\n      <td>8</td>\n    </tr>\n    <tr>\n      <th>3</th>\n      <td>3323307</td>\n      <td>PREFEITURA MUNICIPAL DE PORTO ACRE</td>\n      <td>UNIDADE DE SAUDE DA FAMILIA ALVARO ARAUJO NOBRE</td>\n      <td>120080</td>\n      <td>PORTO ACRE</td>\n      <td>AC</td>\n      <td>1</td>\n    </tr>\n    <tr>\n      <th>4</th>\n      <td>5336171</td>\n      <td>SECRETARIA DE ESTADO DE SAUDE DO ACRE</td>\n      <td>HOSPITAL REGIONAL DO JURUA</td>\n      <td>120020</td>\n      <td>CRUZEIRO DO SUL</td>\n      <td>AC</td>\n      <td>1</td>\n    </tr>\n    <tr>\n      <th>5</th>\n      <td>6159087</td>\n      <td>PREFEITURA MUNICIPAL DE CRUZEIRO DO SUL</td>\n      <td>SECRETARIA MUNICIPAL DE SAUDE DE CRUZEIRO DO SUL</td>\n      <td>120020</td>\n      <td>CRUZEIRO DO SUL</td>\n      <td>AC</td>\n      <td>3</td>\n    </tr>\n    <tr>\n      <th>6</th>\n      <td>6308740</td>\n      <td>DISTRITO SANITARIO ESPECIAL INDIGENA ALTO RIO ...</td>\n      <td>POLO BASE DE PORTO WALTER</td>\n      <td>120039</td>\n      <td>PORTO WALTER</td>\n      <td>AC</td>\n      <td>2</td>\n    </tr>\n    <tr>\n      <th>7</th>\n      <td>6428940</td>\n      <td>PREFEITURA MUNICIPAL DE ASSIS BRASIL</td>\n      <td>POLO BASE DE ASSIS BRASIL</td>\n      <td>120005</td>\n      <td>ASSIS BRASIL</td>\n      <td>AC</td>\n      <td>3</td>\n    </tr>\n    <tr>\n      <th>8</th>\n      <td>6430201</td>\n      <td>DISTRITO SANITARIO ESPECIAL INDIGENA ALTO JURUA</td>\n      <td>POLO BASE INDIGENA</td>\n      <td>120032</td>\n      <td>JORDAO</td>\n      <td>AC</td>\n      <td>4</td>\n    </tr>\n    <tr>\n      <th>9</th>\n      <td>6612385</td>\n      <td>PREFEITURA MUNICIPAL DE TARAUACA</td>\n      <td>UNIDADE ASSISTENCIAL A SAUDE INDIGENA DE TARAU...</td>\n      <td>120060</td>\n      <td>TARAUACA</td>\n      <td>AC</td>\n      <td>2</td>\n    </tr>\n    <tr>\n      <th>10</th>\n      <td>6697151</td>\n      <td>MINISTERIO DA SAUDE</td>\n      <td>DISTRITO SANITARIO ESPECIAL INDIGENA ALTO PURUS</td>\n      <td>120050</td>\n      <td>SENA MADUREIRA</td>\n      <td>AC</td>\n      <td>1</td>\n    </tr>\n    <tr>\n      <th>11</th>\n      <td>6748759</td>\n      <td>DISTRITO SANITARIO ESPECIAL INDIGENA ALTO RIO ...</td>\n      <td>POLO BASE DE FEIJO</td>\n      <td>120030</td>\n      <td>FEIJO</td>\n      <td>AC</td>\n      <td>6</td>\n    </tr>\n    <tr>\n      <th>12</th>\n      <td>6917291</td>\n      <td>PREFEITURA MUNICIPAL DE RIO BRANCO</td>\n      <td>DEPARTAMENTO DE VIGILANCIA EPIDEMIOLOGICA E AM...</td>\n      <td>120040</td>\n      <td>RIO BRANCO</td>\n      <td>AC</td>\n      <td>4</td>\n    </tr>\n    <tr>\n      <th>13</th>\n      <td>6917682</td>\n      <td>DISTRITO SANITARIO ESPECIAL INDIGENA ALTO RIO ...</td>\n      <td>POLO BASE DE CRUZEIRO DO SUL</td>\n      <td>120020</td>\n      <td>CRUZEIRO DO SUL</td>\n      <td>AC</td>\n      <td>1</td>\n    </tr>\n    <tr>\n      <th>14</th>\n      <td>6955525</td>\n      <td>DISTRITO SANITARIO ESPECIAL INDIGENA ALTO RIO ...</td>\n      <td>POLO BASE DE MANCIO LIMA</td>\n      <td>120033</td>\n      <td>MANCIO LIMA</td>\n      <td>AC</td>\n      <td>3</td>\n    </tr>\n    <tr>\n      <th>15</th>\n      <td>7123043</td>\n      <td>PREFEITURA MUNICIPAL DE JORDAO</td>\n      <td>SAUDE DA FAMILIA RIBEIRINHA</td>\n      <td>120032</td>\n      <td>JORDAO</td>\n      <td>AC</td>\n      <td>1</td>\n    </tr>\n    <tr>\n      <th>16</th>\n      <td>7625855</td>\n      <td>DISTRITO SANITARIO ESPECIAL INDIGENA ALTO RIO ...</td>\n      <td>POLO BASE DE MARECHAL THAUMATURGO</td>\n      <td>120035</td>\n      <td>MARECHAL THAUMATURGO</td>\n      <td>AC</td>\n      <td>9</td>\n    </tr>\n    <tr>\n      <th>17</th>\n      <td>9648968</td>\n      <td>DISTRITO SANITARIO ESPECIAL DE SAUDE INDIGENA ...</td>\n      <td>POLO INDIGENA DE MANOEL URBANO</td>\n      <td>120034</td>\n      <td>MANOEL URBANO</td>\n      <td>AC</td>\n      <td>2</td>\n    </tr>\n  </tbody>\n</table>\n</div>"
     },
     "execution_count": 88,
     "metadata": {},
     "output_type": "execute_result"
    }
   ],
   "source": [
    "# 6) Eu penso que tem um problema com o pedido do item 6, pois ele remove as duplicatas, mas não soma as vacinas aplicadas\n",
    "df_menor_lista = df_menor.loc[:,lista_variaveis]\n",
    "unique_estabelecimentos = df_menor_lista.groupby(lista_variaveis).size().reset_index(name='qt_vacinas')\n",
    "unique_estabelecimentos"
   ],
   "metadata": {
    "collapsed": false
   }
  }
 ],
 "metadata": {
  "kernelspec": {
   "display_name": "Python 3",
   "language": "python",
   "name": "python3"
  },
  "language_info": {
   "codemirror_mode": {
    "name": "ipython",
    "version": 3
   },
   "file_extension": ".py",
   "mimetype": "text/x-python",
   "name": "python",
   "nbconvert_exporter": "python",
   "pygments_lexer": "ipython3",
   "version": "3.8.5"
  },
  "toc": {
   "base_numbering": 1,
   "nav_menu": {},
   "number_sections": false,
   "sideBar": true,
   "skip_h1_title": true,
   "title_cell": "Índice",
   "title_sidebar": "Conteúdo",
   "toc_cell": false,
   "toc_position": {},
   "toc_section_display": true,
   "toc_window_display": false
  },
  "varInspector": {
   "cols": {
    "lenName": 16,
    "lenType": 16,
    "lenVar": 40
   },
   "kernels_config": {
    "python": {
     "delete_cmd_postfix": "",
     "delete_cmd_prefix": "del ",
     "library": "var_list.py",
     "varRefreshCmd": "print(var_dic_list())"
    },
    "r": {
     "delete_cmd_postfix": ") ",
     "delete_cmd_prefix": "rm(",
     "library": "var_list.r",
     "varRefreshCmd": "cat(var_dic_list()) "
    }
   },
   "types_to_exclude": [
    "module",
    "function",
    "builtin_function_or_method",
    "instance",
    "_Feature"
   ],
   "window_display": false
  }
 },
 "nbformat": 4,
 "nbformat_minor": 4
}
