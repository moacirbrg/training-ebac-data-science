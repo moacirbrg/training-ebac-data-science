{
 "cells": [
  {
   "cell_type": "markdown",
   "metadata": {},
   "source": [
    "# Tarefa 01\n",
    "\n",
    "- Leia os enunciados com atenção\n",
    "- Saiba que pode haver mais de uma resposta correta\n",
    "- Insira novas células de código sempre que achar necessário\n",
    "- Em caso de dúvidas, procure os tutores\n",
    "- Divirta-se :)\n",
    "\n",
    "#### 1)  crie uma série do pandas a partir de uma lista com os dados abaixo:\n",
    "\n",
    "Em um estudo sobre alteração na tempreatura global, A NASA disponibiliza dados de diferenças de de temperatura média da superfície terrestre relativos às médias de temperatura entre 1951 e 1980. Os dados originais podem ser vistos no site da NASA/GISS, e estão dispostos a cada década na tabela abaixo.\n",
    "\n",
    "|ano|anomalia termica|\n",
    "|:-:|:----:|\n",
    "| 1900 | -0.08 |\n",
    "| 1920 | -0.27 |\n",
    "| 1940 | 0.12 |\n",
    "| 1960 | -0.03 |\n",
    "| 1980 | 0.26 |\n",
    "| 2000 | 0.40 |\n",
    "| 2020 | 1.02 |\n",
    "\n",
    "Crie uma séries do Pandas a partir de uma lista com esses dados."
   ]
  },
  {
   "cell_type": "code",
   "execution_count": 88,
   "metadata": {},
   "outputs": [
    {
     "data": {
      "text/plain": "0   -0.08\n1   -0.27\n2    0.12\n3   -0.03\n4    0.26\n5    0.40\n6    1.02\ndtype: float64"
     },
     "execution_count": 88,
     "metadata": {},
     "output_type": "execute_result"
    }
   ],
   "source": [
    "import pandas as pd\n",
    "import numpy as np\n",
    "\n",
    "anomalia_termica_list = [-0.08,-0.27,0.12,-0.03,0.26,0.40,1.02]\n",
    "anomalia_termica = pd.Series(data=anomalia_termica_list)\n",
    "anomalia_termica"
   ]
  },
  {
   "cell_type": "markdown",
   "metadata": {},
   "source": [
    "#### 2) Coloque os anos nos índices conforme a tabela."
   ]
  },
  {
   "cell_type": "code",
   "execution_count": 89,
   "metadata": {},
   "outputs": [
    {
     "data": {
      "text/plain": "1900   -0.08\n1920   -0.27\n1940    0.12\n1960   -0.03\n1980    0.26\n2000    0.40\n2020    1.02\ndtype: float64"
     },
     "execution_count": 89,
     "metadata": {},
     "output_type": "execute_result"
    }
   ],
   "source": [
    "indices = [1900,1920,1940,1960,1980,2000,2020]\n",
    "anomalia_termica.index = indices\n",
    "anomalia_termica"
   ]
  },
  {
   "cell_type": "markdown",
   "metadata": {},
   "source": [
    "#### 3) A partir do dicionário abaixo, crie uma séries do Pandas:"
   ]
  },
  {
   "cell_type": "code",
   "execution_count": 90,
   "metadata": {},
   "outputs": [
    {
     "data": {
      "text/plain": "1900   -0.08\n1920   -0.27\n1940    0.12\n1960   -0.03\n1980    0.26\n2000    0.40\n2020    1.02\ndtype: float64"
     },
     "execution_count": 90,
     "metadata": {},
     "output_type": "execute_result"
    }
   ],
   "source": [
    "dic_temperaturas = {1900: -.08, 1920: -.27, 1940: .12, 1960: -.03, 1980: .26, 2000: .40, 2020: 1.02}\n",
    "temperaturas = pd.Series(dic_temperaturas)\n",
    "temperaturas"
   ]
  },
  {
   "cell_type": "markdown",
   "metadata": {},
   "source": [
    "#### 4) Transforme o ndarray abaixo em um dataframe. \n",
    "O numpy é capaz de gerar arrays n-dimensionais com números pseudo-aleatórios de acordo com uma variedade de distribuições, como no exemplo abaixo. Transforme esse nd-array em um DataFrame."
   ]
  },
  {
   "cell_type": "code",
   "execution_count": 91,
   "metadata": {},
   "outputs": [
    {
     "data": {
      "text/plain": "             0           1           2\n0    95.102234  101.582663  105.795221\n1    95.108114   99.067526   97.689165\n2   110.134766  109.739194  111.257616\n3    93.172861   96.081408   92.741176\n4   115.530263  116.106111   95.060475\n5   100.589110   99.908552  108.067822\n6    96.648675  105.559328   91.842389\n7    75.227954   91.821680   94.909141\n8    84.669143   91.699386   89.492122\n9   103.792382   76.607534   96.200457\n10   97.721685  107.404296   96.237640\n11   90.601106  105.394025  115.164639\n12   97.883154   87.512354  107.767862\n13   98.598693   99.184208  104.846931\n14  104.025248  113.491138   96.668623\n15  113.802823   98.768887   97.030690\n16  102.508507   97.384907   93.251726\n17   82.728613  123.197521  102.300171\n18  101.009088  114.286880   94.337910\n19   93.357810   95.974318  103.224239",
      "text/html": "<div>\n<style scoped>\n    .dataframe tbody tr th:only-of-type {\n        vertical-align: middle;\n    }\n\n    .dataframe tbody tr th {\n        vertical-align: top;\n    }\n\n    .dataframe thead th {\n        text-align: right;\n    }\n</style>\n<table border=\"1\" class=\"dataframe\">\n  <thead>\n    <tr style=\"text-align: right;\">\n      <th></th>\n      <th>0</th>\n      <th>1</th>\n      <th>2</th>\n    </tr>\n  </thead>\n  <tbody>\n    <tr>\n      <th>0</th>\n      <td>95.102234</td>\n      <td>101.582663</td>\n      <td>105.795221</td>\n    </tr>\n    <tr>\n      <th>1</th>\n      <td>95.108114</td>\n      <td>99.067526</td>\n      <td>97.689165</td>\n    </tr>\n    <tr>\n      <th>2</th>\n      <td>110.134766</td>\n      <td>109.739194</td>\n      <td>111.257616</td>\n    </tr>\n    <tr>\n      <th>3</th>\n      <td>93.172861</td>\n      <td>96.081408</td>\n      <td>92.741176</td>\n    </tr>\n    <tr>\n      <th>4</th>\n      <td>115.530263</td>\n      <td>116.106111</td>\n      <td>95.060475</td>\n    </tr>\n    <tr>\n      <th>5</th>\n      <td>100.589110</td>\n      <td>99.908552</td>\n      <td>108.067822</td>\n    </tr>\n    <tr>\n      <th>6</th>\n      <td>96.648675</td>\n      <td>105.559328</td>\n      <td>91.842389</td>\n    </tr>\n    <tr>\n      <th>7</th>\n      <td>75.227954</td>\n      <td>91.821680</td>\n      <td>94.909141</td>\n    </tr>\n    <tr>\n      <th>8</th>\n      <td>84.669143</td>\n      <td>91.699386</td>\n      <td>89.492122</td>\n    </tr>\n    <tr>\n      <th>9</th>\n      <td>103.792382</td>\n      <td>76.607534</td>\n      <td>96.200457</td>\n    </tr>\n    <tr>\n      <th>10</th>\n      <td>97.721685</td>\n      <td>107.404296</td>\n      <td>96.237640</td>\n    </tr>\n    <tr>\n      <th>11</th>\n      <td>90.601106</td>\n      <td>105.394025</td>\n      <td>115.164639</td>\n    </tr>\n    <tr>\n      <th>12</th>\n      <td>97.883154</td>\n      <td>87.512354</td>\n      <td>107.767862</td>\n    </tr>\n    <tr>\n      <th>13</th>\n      <td>98.598693</td>\n      <td>99.184208</td>\n      <td>104.846931</td>\n    </tr>\n    <tr>\n      <th>14</th>\n      <td>104.025248</td>\n      <td>113.491138</td>\n      <td>96.668623</td>\n    </tr>\n    <tr>\n      <th>15</th>\n      <td>113.802823</td>\n      <td>98.768887</td>\n      <td>97.030690</td>\n    </tr>\n    <tr>\n      <th>16</th>\n      <td>102.508507</td>\n      <td>97.384907</td>\n      <td>93.251726</td>\n    </tr>\n    <tr>\n      <th>17</th>\n      <td>82.728613</td>\n      <td>123.197521</td>\n      <td>102.300171</td>\n    </tr>\n    <tr>\n      <th>18</th>\n      <td>101.009088</td>\n      <td>114.286880</td>\n      <td>94.337910</td>\n    </tr>\n    <tr>\n      <th>19</th>\n      <td>93.357810</td>\n      <td>95.974318</td>\n      <td>103.224239</td>\n    </tr>\n  </tbody>\n</table>\n</div>"
     },
     "execution_count": 91,
     "metadata": {},
     "output_type": "execute_result"
    }
   ],
   "source": [
    "arr = np.random.normal(100, 10, (20,3))\n",
    "df = pd.DataFrame(data=arr)\n",
    "df"
   ]
  },
  {
   "cell_type": "markdown",
   "metadata": {},
   "source": [
    "#### 5) Nomeie os índices das linhas com inteiros de 1 a 20, e as colunas com os nomes \"x1\", \"x2\", e \"x3\" respectivamente."
   ]
  },
  {
   "cell_type": "code",
   "execution_count": 92,
   "metadata": {},
   "outputs": [
    {
     "data": {
      "text/plain": "            x1          x2          x3\n1    95.102234  101.582663  105.795221\n2    95.108114   99.067526   97.689165\n3   110.134766  109.739194  111.257616\n4    93.172861   96.081408   92.741176\n5   115.530263  116.106111   95.060475\n6   100.589110   99.908552  108.067822\n7    96.648675  105.559328   91.842389\n8    75.227954   91.821680   94.909141\n9    84.669143   91.699386   89.492122\n10  103.792382   76.607534   96.200457\n11   97.721685  107.404296   96.237640\n12   90.601106  105.394025  115.164639\n13   97.883154   87.512354  107.767862\n14   98.598693   99.184208  104.846931\n15  104.025248  113.491138   96.668623\n16  113.802823   98.768887   97.030690\n17  102.508507   97.384907   93.251726\n18   82.728613  123.197521  102.300171\n19  101.009088  114.286880   94.337910\n20   93.357810   95.974318  103.224239",
      "text/html": "<div>\n<style scoped>\n    .dataframe tbody tr th:only-of-type {\n        vertical-align: middle;\n    }\n\n    .dataframe tbody tr th {\n        vertical-align: top;\n    }\n\n    .dataframe thead th {\n        text-align: right;\n    }\n</style>\n<table border=\"1\" class=\"dataframe\">\n  <thead>\n    <tr style=\"text-align: right;\">\n      <th></th>\n      <th>x1</th>\n      <th>x2</th>\n      <th>x3</th>\n    </tr>\n  </thead>\n  <tbody>\n    <tr>\n      <th>1</th>\n      <td>95.102234</td>\n      <td>101.582663</td>\n      <td>105.795221</td>\n    </tr>\n    <tr>\n      <th>2</th>\n      <td>95.108114</td>\n      <td>99.067526</td>\n      <td>97.689165</td>\n    </tr>\n    <tr>\n      <th>3</th>\n      <td>110.134766</td>\n      <td>109.739194</td>\n      <td>111.257616</td>\n    </tr>\n    <tr>\n      <th>4</th>\n      <td>93.172861</td>\n      <td>96.081408</td>\n      <td>92.741176</td>\n    </tr>\n    <tr>\n      <th>5</th>\n      <td>115.530263</td>\n      <td>116.106111</td>\n      <td>95.060475</td>\n    </tr>\n    <tr>\n      <th>6</th>\n      <td>100.589110</td>\n      <td>99.908552</td>\n      <td>108.067822</td>\n    </tr>\n    <tr>\n      <th>7</th>\n      <td>96.648675</td>\n      <td>105.559328</td>\n      <td>91.842389</td>\n    </tr>\n    <tr>\n      <th>8</th>\n      <td>75.227954</td>\n      <td>91.821680</td>\n      <td>94.909141</td>\n    </tr>\n    <tr>\n      <th>9</th>\n      <td>84.669143</td>\n      <td>91.699386</td>\n      <td>89.492122</td>\n    </tr>\n    <tr>\n      <th>10</th>\n      <td>103.792382</td>\n      <td>76.607534</td>\n      <td>96.200457</td>\n    </tr>\n    <tr>\n      <th>11</th>\n      <td>97.721685</td>\n      <td>107.404296</td>\n      <td>96.237640</td>\n    </tr>\n    <tr>\n      <th>12</th>\n      <td>90.601106</td>\n      <td>105.394025</td>\n      <td>115.164639</td>\n    </tr>\n    <tr>\n      <th>13</th>\n      <td>97.883154</td>\n      <td>87.512354</td>\n      <td>107.767862</td>\n    </tr>\n    <tr>\n      <th>14</th>\n      <td>98.598693</td>\n      <td>99.184208</td>\n      <td>104.846931</td>\n    </tr>\n    <tr>\n      <th>15</th>\n      <td>104.025248</td>\n      <td>113.491138</td>\n      <td>96.668623</td>\n    </tr>\n    <tr>\n      <th>16</th>\n      <td>113.802823</td>\n      <td>98.768887</td>\n      <td>97.030690</td>\n    </tr>\n    <tr>\n      <th>17</th>\n      <td>102.508507</td>\n      <td>97.384907</td>\n      <td>93.251726</td>\n    </tr>\n    <tr>\n      <th>18</th>\n      <td>82.728613</td>\n      <td>123.197521</td>\n      <td>102.300171</td>\n    </tr>\n    <tr>\n      <th>19</th>\n      <td>101.009088</td>\n      <td>114.286880</td>\n      <td>94.337910</td>\n    </tr>\n    <tr>\n      <th>20</th>\n      <td>93.357810</td>\n      <td>95.974318</td>\n      <td>103.224239</td>\n    </tr>\n  </tbody>\n</table>\n</div>"
     },
     "execution_count": 92,
     "metadata": {},
     "output_type": "execute_result"
    }
   ],
   "source": [
    "df.index = range(1, 21)\n",
    "df.columns = ['x1', 'x2', 'x3']\n",
    "df"
   ]
  },
  {
   "cell_type": "markdown",
   "metadata": {},
   "source": [
    "#### 6) No DataFrame do exercício 5, crie uma nova coluna como sendo a média das três colunas, e dê a ela o nome de \"media\" (não recomendo colocar acentos em nomes de variáveis)."
   ]
  },
  {
   "cell_type": "code",
   "execution_count": 93,
   "metadata": {},
   "outputs": [
    {
     "data": {
      "text/plain": "            x1          x2          x3       media\n1    95.102234  101.582663  105.795221  100.826706\n2    95.108114   99.067526   97.689165   97.288268\n3   110.134766  109.739194  111.257616  110.377192\n4    93.172861   96.081408   92.741176   93.998482\n5   115.530263  116.106111   95.060475  108.898950\n6   100.589110   99.908552  108.067822  102.855161\n7    96.648675  105.559328   91.842389   98.016797\n8    75.227954   91.821680   94.909141   87.319592\n9    84.669143   91.699386   89.492122   88.620217\n10  103.792382   76.607534   96.200457   92.200125\n11   97.721685  107.404296   96.237640  100.454541\n12   90.601106  105.394025  115.164639  103.719923\n13   97.883154   87.512354  107.767862   97.721123\n14   98.598693   99.184208  104.846931  100.876610\n15  104.025248  113.491138   96.668623  104.728336\n16  113.802823   98.768887   97.030690  103.200800\n17  102.508507   97.384907   93.251726   97.715046\n18   82.728613  123.197521  102.300171  102.742101\n19  101.009088  114.286880   94.337910  103.211293\n20   93.357810   95.974318  103.224239   97.518789",
      "text/html": "<div>\n<style scoped>\n    .dataframe tbody tr th:only-of-type {\n        vertical-align: middle;\n    }\n\n    .dataframe tbody tr th {\n        vertical-align: top;\n    }\n\n    .dataframe thead th {\n        text-align: right;\n    }\n</style>\n<table border=\"1\" class=\"dataframe\">\n  <thead>\n    <tr style=\"text-align: right;\">\n      <th></th>\n      <th>x1</th>\n      <th>x2</th>\n      <th>x3</th>\n      <th>media</th>\n    </tr>\n  </thead>\n  <tbody>\n    <tr>\n      <th>1</th>\n      <td>95.102234</td>\n      <td>101.582663</td>\n      <td>105.795221</td>\n      <td>100.826706</td>\n    </tr>\n    <tr>\n      <th>2</th>\n      <td>95.108114</td>\n      <td>99.067526</td>\n      <td>97.689165</td>\n      <td>97.288268</td>\n    </tr>\n    <tr>\n      <th>3</th>\n      <td>110.134766</td>\n      <td>109.739194</td>\n      <td>111.257616</td>\n      <td>110.377192</td>\n    </tr>\n    <tr>\n      <th>4</th>\n      <td>93.172861</td>\n      <td>96.081408</td>\n      <td>92.741176</td>\n      <td>93.998482</td>\n    </tr>\n    <tr>\n      <th>5</th>\n      <td>115.530263</td>\n      <td>116.106111</td>\n      <td>95.060475</td>\n      <td>108.898950</td>\n    </tr>\n    <tr>\n      <th>6</th>\n      <td>100.589110</td>\n      <td>99.908552</td>\n      <td>108.067822</td>\n      <td>102.855161</td>\n    </tr>\n    <tr>\n      <th>7</th>\n      <td>96.648675</td>\n      <td>105.559328</td>\n      <td>91.842389</td>\n      <td>98.016797</td>\n    </tr>\n    <tr>\n      <th>8</th>\n      <td>75.227954</td>\n      <td>91.821680</td>\n      <td>94.909141</td>\n      <td>87.319592</td>\n    </tr>\n    <tr>\n      <th>9</th>\n      <td>84.669143</td>\n      <td>91.699386</td>\n      <td>89.492122</td>\n      <td>88.620217</td>\n    </tr>\n    <tr>\n      <th>10</th>\n      <td>103.792382</td>\n      <td>76.607534</td>\n      <td>96.200457</td>\n      <td>92.200125</td>\n    </tr>\n    <tr>\n      <th>11</th>\n      <td>97.721685</td>\n      <td>107.404296</td>\n      <td>96.237640</td>\n      <td>100.454541</td>\n    </tr>\n    <tr>\n      <th>12</th>\n      <td>90.601106</td>\n      <td>105.394025</td>\n      <td>115.164639</td>\n      <td>103.719923</td>\n    </tr>\n    <tr>\n      <th>13</th>\n      <td>97.883154</td>\n      <td>87.512354</td>\n      <td>107.767862</td>\n      <td>97.721123</td>\n    </tr>\n    <tr>\n      <th>14</th>\n      <td>98.598693</td>\n      <td>99.184208</td>\n      <td>104.846931</td>\n      <td>100.876610</td>\n    </tr>\n    <tr>\n      <th>15</th>\n      <td>104.025248</td>\n      <td>113.491138</td>\n      <td>96.668623</td>\n      <td>104.728336</td>\n    </tr>\n    <tr>\n      <th>16</th>\n      <td>113.802823</td>\n      <td>98.768887</td>\n      <td>97.030690</td>\n      <td>103.200800</td>\n    </tr>\n    <tr>\n      <th>17</th>\n      <td>102.508507</td>\n      <td>97.384907</td>\n      <td>93.251726</td>\n      <td>97.715046</td>\n    </tr>\n    <tr>\n      <th>18</th>\n      <td>82.728613</td>\n      <td>123.197521</td>\n      <td>102.300171</td>\n      <td>102.742101</td>\n    </tr>\n    <tr>\n      <th>19</th>\n      <td>101.009088</td>\n      <td>114.286880</td>\n      <td>94.337910</td>\n      <td>103.211293</td>\n    </tr>\n    <tr>\n      <th>20</th>\n      <td>93.357810</td>\n      <td>95.974318</td>\n      <td>103.224239</td>\n      <td>97.518789</td>\n    </tr>\n  </tbody>\n</table>\n</div>"
     },
     "execution_count": 93,
     "metadata": {},
     "output_type": "execute_result"
    }
   ],
   "source": [
    "df['media'] = (df['x1'] + df['x2'] + df['x3']) / 3\n",
    "df"
   ]
  },
  {
   "cell_type": "markdown",
   "metadata": {},
   "source": [
    "#### 7) No DataFrame do exercício 6, crie uma nova coluna chamada \"log_med\", contendo o logaritmo natural da média calculada no exercício 6 <br>"
   ]
  },
  {
   "cell_type": "code",
   "execution_count": 94,
   "outputs": [
    {
     "data": {
      "text/plain": "            x1          x2          x3       media   log_med\n1    95.102234  101.582663  105.795221  100.826706  4.613403\n2    95.108114   99.067526   97.689165   97.288268  4.577678\n3   110.134766  109.739194  111.257616  110.377192  4.703904\n4    93.172861   96.081408   92.741176   93.998482  4.543279\n5   115.530263  116.106111   95.060475  108.898950  4.690420\n6   100.589110   99.908552  108.067822  102.855161  4.633322\n7    96.648675  105.559328   91.842389   98.016797  4.585139\n8    75.227954   91.821680   94.909141   87.319592  4.469575\n9    84.669143   91.699386   89.492122   88.620217  4.484360\n10  103.792382   76.607534   96.200457   92.200125  4.523961\n11   97.721685  107.404296   96.237640  100.454541  4.609705\n12   90.601106  105.394025  115.164639  103.719923  4.641694\n13   97.883154   87.512354  107.767862   97.721123  4.582118\n14   98.598693   99.184208  104.846931  100.876610  4.613898\n15  104.025248  113.491138   96.668623  104.728336  4.651370\n16  113.802823   98.768887   97.030690  103.200800  4.636677\n17  102.508507   97.384907   93.251726   97.715046  4.582056\n18   82.728613  123.197521  102.300171  102.742101  4.632222\n19  101.009088  114.286880   94.337910  103.211293  4.636778\n20   93.357810   95.974318  103.224239   97.518789  4.580045",
      "text/html": "<div>\n<style scoped>\n    .dataframe tbody tr th:only-of-type {\n        vertical-align: middle;\n    }\n\n    .dataframe tbody tr th {\n        vertical-align: top;\n    }\n\n    .dataframe thead th {\n        text-align: right;\n    }\n</style>\n<table border=\"1\" class=\"dataframe\">\n  <thead>\n    <tr style=\"text-align: right;\">\n      <th></th>\n      <th>x1</th>\n      <th>x2</th>\n      <th>x3</th>\n      <th>media</th>\n      <th>log_med</th>\n    </tr>\n  </thead>\n  <tbody>\n    <tr>\n      <th>1</th>\n      <td>95.102234</td>\n      <td>101.582663</td>\n      <td>105.795221</td>\n      <td>100.826706</td>\n      <td>4.613403</td>\n    </tr>\n    <tr>\n      <th>2</th>\n      <td>95.108114</td>\n      <td>99.067526</td>\n      <td>97.689165</td>\n      <td>97.288268</td>\n      <td>4.577678</td>\n    </tr>\n    <tr>\n      <th>3</th>\n      <td>110.134766</td>\n      <td>109.739194</td>\n      <td>111.257616</td>\n      <td>110.377192</td>\n      <td>4.703904</td>\n    </tr>\n    <tr>\n      <th>4</th>\n      <td>93.172861</td>\n      <td>96.081408</td>\n      <td>92.741176</td>\n      <td>93.998482</td>\n      <td>4.543279</td>\n    </tr>\n    <tr>\n      <th>5</th>\n      <td>115.530263</td>\n      <td>116.106111</td>\n      <td>95.060475</td>\n      <td>108.898950</td>\n      <td>4.690420</td>\n    </tr>\n    <tr>\n      <th>6</th>\n      <td>100.589110</td>\n      <td>99.908552</td>\n      <td>108.067822</td>\n      <td>102.855161</td>\n      <td>4.633322</td>\n    </tr>\n    <tr>\n      <th>7</th>\n      <td>96.648675</td>\n      <td>105.559328</td>\n      <td>91.842389</td>\n      <td>98.016797</td>\n      <td>4.585139</td>\n    </tr>\n    <tr>\n      <th>8</th>\n      <td>75.227954</td>\n      <td>91.821680</td>\n      <td>94.909141</td>\n      <td>87.319592</td>\n      <td>4.469575</td>\n    </tr>\n    <tr>\n      <th>9</th>\n      <td>84.669143</td>\n      <td>91.699386</td>\n      <td>89.492122</td>\n      <td>88.620217</td>\n      <td>4.484360</td>\n    </tr>\n    <tr>\n      <th>10</th>\n      <td>103.792382</td>\n      <td>76.607534</td>\n      <td>96.200457</td>\n      <td>92.200125</td>\n      <td>4.523961</td>\n    </tr>\n    <tr>\n      <th>11</th>\n      <td>97.721685</td>\n      <td>107.404296</td>\n      <td>96.237640</td>\n      <td>100.454541</td>\n      <td>4.609705</td>\n    </tr>\n    <tr>\n      <th>12</th>\n      <td>90.601106</td>\n      <td>105.394025</td>\n      <td>115.164639</td>\n      <td>103.719923</td>\n      <td>4.641694</td>\n    </tr>\n    <tr>\n      <th>13</th>\n      <td>97.883154</td>\n      <td>87.512354</td>\n      <td>107.767862</td>\n      <td>97.721123</td>\n      <td>4.582118</td>\n    </tr>\n    <tr>\n      <th>14</th>\n      <td>98.598693</td>\n      <td>99.184208</td>\n      <td>104.846931</td>\n      <td>100.876610</td>\n      <td>4.613898</td>\n    </tr>\n    <tr>\n      <th>15</th>\n      <td>104.025248</td>\n      <td>113.491138</td>\n      <td>96.668623</td>\n      <td>104.728336</td>\n      <td>4.651370</td>\n    </tr>\n    <tr>\n      <th>16</th>\n      <td>113.802823</td>\n      <td>98.768887</td>\n      <td>97.030690</td>\n      <td>103.200800</td>\n      <td>4.636677</td>\n    </tr>\n    <tr>\n      <th>17</th>\n      <td>102.508507</td>\n      <td>97.384907</td>\n      <td>93.251726</td>\n      <td>97.715046</td>\n      <td>4.582056</td>\n    </tr>\n    <tr>\n      <th>18</th>\n      <td>82.728613</td>\n      <td>123.197521</td>\n      <td>102.300171</td>\n      <td>102.742101</td>\n      <td>4.632222</td>\n    </tr>\n    <tr>\n      <th>19</th>\n      <td>101.009088</td>\n      <td>114.286880</td>\n      <td>94.337910</td>\n      <td>103.211293</td>\n      <td>4.636778</td>\n    </tr>\n    <tr>\n      <th>20</th>\n      <td>93.357810</td>\n      <td>95.974318</td>\n      <td>103.224239</td>\n      <td>97.518789</td>\n      <td>4.580045</td>\n    </tr>\n  </tbody>\n</table>\n</div>"
     },
     "execution_count": 94,
     "metadata": {},
     "output_type": "execute_result"
    }
   ],
   "source": [
    "df['log_med'] = np.log(df['media'])\n",
    "df"
   ],
   "metadata": {
    "collapsed": false
   }
  }
 ],
 "metadata": {
  "kernelspec": {
   "display_name": "Python 3",
   "language": "python",
   "name": "python3"
  },
  "language_info": {
   "codemirror_mode": {
    "name": "ipython",
    "version": 3
   },
   "file_extension": ".py",
   "mimetype": "text/x-python",
   "name": "python",
   "nbconvert_exporter": "python",
   "pygments_lexer": "ipython3",
   "version": "3.8.5"
  }
 },
 "nbformat": 4,
 "nbformat_minor": 4
}
