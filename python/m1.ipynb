{
 "nbformat": 4,
 "nbformat_minor": 0,
 "metadata": {
  "colab": {
   "name": "module_1_exercise.ipynb",
   "provenance": [],
   "toc_visible": true
  },
  "kernelspec": {
   "name": "python3",
   "display_name": "Python 3"
  }
 },
 "cells": [
  {
   "cell_type": "markdown",
   "metadata": {
    "id": "KJqp9AANOCtf"
   },
   "source": [
    "<img src=\"https://raw.githubusercontent.com/andre-marcos-perez/ebac-course-utils/main/media/logo/newebac_logo_black_half.png\" alt=\"ebac-logo\">\n",
    "\n",
    "---\n",
    "\n",
    "# **Módulo** | Python: Variáveis & Tipos de Dados\n",
    "Caderno de **Exercícios**<br> \n",
    "Professor [André Perez](https://www.linkedin.com/in/andremarcosperez/)\n",
    "\n",
    "---"
   ]
  },
  {
   "cell_type": "markdown",
   "metadata": {
    "id": "d9jDtUbDOE1-"
   },
   "source": [
    "# **Tópicos**\n",
    "\n",
    "<ol type=\"1\">\n",
    "  <li>Introdução ao Google Colab;</li>\n",
    "  <li>Variáveis;</li>\n",
    "  <li>Números;</li>\n",
    "  <li><i>Strings;</i></li>\n",
    "  <li>Boleanos.</li>\n",
    "</ol>"
   ]
  },
  {
   "cell_type": "markdown",
   "metadata": {
    "id": "SmoHgt-lwkpD"
   },
   "source": [
    "---"
   ]
  },
  {
   "cell_type": "markdown",
   "metadata": {
    "id": "GABI6OW8OfQ2"
   },
   "source": [
    "# **Exercícios**"
   ]
  },
  {
   "cell_type": "markdown",
   "metadata": {
    "id": "muD1vxozykSC"
   },
   "source": [
    "## 1\\. Google Colab"
   ]
  },
  {
   "cell_type": "markdown",
   "metadata": {
    "id": "ahrFfCuBxJKs"
   },
   "source": [
    "Crie uma célula de código que escreva o texto \"Olá mundo!\", utilize o comando `print`."
   ]
  },
  {
   "cell_type": "code",
   "execution_count": 2,
   "outputs": [
    {
     "name": "stdout",
     "output_type": "stream",
     "text": [
      "Olá mundo!\n"
     ]
    }
   ],
   "source": [
    "print(\"Olá mundo!\")"
   ],
   "metadata": {
    "collapsed": false
   }
  },
  {
   "cell_type": "markdown",
   "metadata": {
    "id": "KI9zQRT2xa7m"
   },
   "source": [
    "Crie uma célua de texto e adicione uma imagem."
   ]
  },
  {
   "cell_type": "markdown",
   "source": [
    "### Resolvendo exercícios:\n",
    "<img src=\"https://moacirbrg-ebac-exercises.s3.amazonaws.com/pic-01-problem-solving.jpg\" alt=\"Pessoas resolvendo problemas (Imagem adquirirda através da assinatura paga do estudate em https://www.freepik.com/)\" />"
   ],
   "metadata": {
    "collapsed": false
   }
  },
  {
   "cell_type": "markdown",
   "metadata": {
    "id": "tFYOPLS3xiwe"
   },
   "source": [
    "## 2\\. Números"
   ]
  },
  {
   "cell_type": "markdown",
   "metadata": {
    "id": "O2G9gt7tx2c-"
   },
   "source": [
    "Preencha as células de código para preencher os valores de (A), (B) e (C) na tabela de ticket médio abaixo:\n",
    "\n",
    "<br>\n",
    "\n",
    "| Dia   | Valor Total Vendas | Qtd Total Vendas | Ticket Medio |\n",
    "|-------|--------------------|------------------|--------------|\n",
    "| 19/01 | (A)                | 3                | 320.52       |\n",
    "| 20/01 | 834.47             | (B)              | 119.21       |\n",
    "| 23/01 | 15378.12           | 5                | (C)          |"
   ]
  },
  {
   "cell_type": "code",
   "metadata": {
    "id": "nsrKH9EizNRD"
   },
   "source": [
    "# (A)\n",
    "a_qtd_total_vendas = 3\n",
    "a_ticket_medio = 320.52\n",
    "A = a_qtd_total_vendas * a_ticket_medio\n",
    "print(A)"
   ],
   "execution_count": 3,
   "outputs": [
    {
     "name": "stdout",
     "output_type": "stream",
     "text": [
      "961.56\n"
     ]
    }
   ]
  },
  {
   "cell_type": "code",
   "metadata": {
    "id": "QQ1GBGHJzMmi"
   },
   "source": [
    "# (B)\n",
    "b_valor_total_vendas = 834.47\n",
    "b_ticket_medio = 119.21\n",
    "B = b_valor_total_vendas / b_ticket_medio\n",
    "print(B)"
   ],
   "execution_count": 4,
   "outputs": [
    {
     "name": "stdout",
     "output_type": "stream",
     "text": [
      "7.000000000000001\n"
     ]
    }
   ]
  },
  {
   "cell_type": "code",
   "metadata": {
    "id": "W-li0nSMzKNa"
   },
   "source": [
    "# (C)\n",
    "c_valor_total_vendas = 15_378\n",
    "c_qtd_total_vendas = 5\n",
    "C = c_valor_total_vendas / c_qtd_total_vendas\n",
    "print(C)"
   ],
   "execution_count": 5,
   "outputs": [
    {
     "name": "stdout",
     "output_type": "stream",
     "text": [
      "3075.6\n"
     ]
    }
   ]
  },
  {
   "cell_type": "markdown",
   "metadata": {
    "id": "yUJ6kdony6Pr"
   },
   "source": [
    "## 3\\. Strings"
   ]
  },
  {
   "cell_type": "markdown",
   "metadata": {
    "id": "KDuZpg-5zCvO"
   },
   "source": [
    "Aplique três métodos distintos na *string* abaixo, você pode conferir alguns métodos neste [link](https://www.w3schools.com/python/python_ref_string.asp):"
   ]
  },
  {
   "cell_type": "code",
   "metadata": {
    "id": "k9zbyf7BzjKj"
   },
   "source": [
    "cancao = 'Roda mundo, roda gigante, roda moinho, roda pião.'\n",
    "upper = cancao.upper()\n",
    "lower = cancao.lower()\n",
    "all_capital = ' '.join([word.capitalize() for word in cancao.split(' ')])\n",
    "\n",
    "print(cancao)\n",
    "print(upper)\n",
    "print(lower)\n",
    "print(all_capital)"
   ],
   "execution_count": 6,
   "outputs": [
    {
     "name": "stdout",
     "output_type": "stream",
     "text": [
      "Roda mundo, roda gigante, roda moinho, roda pião.\n",
      "RODA MUNDO, RODA GIGANTE, RODA MOINHO, RODA PIÃO.\n",
      "roda mundo, roda gigante, roda moinho, roda pião.\n",
      "Roda Mundo, Roda Gigante, Roda Moinho, Roda Pião.\n"
     ]
    }
   ]
  },
  {
   "cell_type": "markdown",
   "metadata": {
    "id": "guZMHXVq0FnC"
   },
   "source": [
    "Extraia da string abaixo o valor da taxa **selic** na variável `selic` e o valor do **ano** na variavel `ano`. Imprima os valores na tela."
   ]
  },
  {
   "cell_type": "code",
   "metadata": {
    "id": "cbx_P4IQ0agK"
   },
   "source": [
    "# Aqui eu poderia ter usado simplesmente os ranges dentro da string, mas quis fazer de uma forma mais genérica, pois programo há alguns vários anos, mesmo assim esse código é fácil de quebrar, mas achei um pouquinho mais desafiador pra mim, espero que você goste. :)\n",
    "noticia = 'Selic vai a 2,75% e supera expectativas; é a primeira alta em 6 anos.'\n",
    "noticia_partes = noticia.split(' ')\n",
    "\n",
    "selic_full = [palavra for palavra in noticia_partes if palavra.endswith('%')]\n",
    "selic = selic_full[0].replace('%', '') if selic_full else None\n",
    "\n",
    "ano = [noticia_partes[i - 1] for i, palavra in enumerate(noticia_partes) if palavra.startswith('anos')][0]\n",
    "\n",
    "print(selic)\n",
    "print(ano)"
   ],
   "execution_count": 7,
   "outputs": [
    {
     "name": "stdout",
     "output_type": "stream",
     "text": [
      "2,75\n",
      "6\n"
     ]
    }
   ]
  },
  {
   "cell_type": "markdown",
   "metadata": {
    "id": "no8w_Ati01xP"
   },
   "source": [
    "## 4\\. Booleanos"
   ]
  },
  {
   "cell_type": "markdown",
   "metadata": {
    "id": "D_0tC3SC099N"
   },
   "source": [
    "Utilize a tabela da verdade para responder: qual o valor da variável x?"
   ]
  },
  {
   "cell_type": "code",
   "metadata": {
    "id": "XwIEbxf91SpU"
   },
   "source": [
    "a = False\n",
    "b = True\n",
    "\n",
    "x = not a & b\n",
    "\n",
    "print('A: ', a)\n",
    "print('B: ', b)\n",
    "print('A & B: ', a & b)\n",
    "print('A | B: ', a | b)\n",
    "print('not A: ', not a)\n",
    "print('--------')\n",
    "print('X: ', x)"
   ],
   "execution_count": 8,
   "outputs": [
    {
     "name": "stdout",
     "output_type": "stream",
     "text": [
      "A:  False\n",
      "B:  True\n",
      "A & B:  False\n",
      "A | B:  True\n",
      "not A:  True\n",
      "--------\n",
      "X:  True\n"
     ]
    }
   ]
  },
  {
   "cell_type": "markdown",
   "source": [
    "### O porquê de X ser TRUE\n",
    "Não entendi bem o que você está pedindo, pois a resposta já está em X, mas pelo que você falou, você quer mais uma interpretação, certo?\n",
    "\n",
    "* X é o oposto de A e X é A AND B.\n",
    "* Sabe-se que A é FALSE, logo NOT A é TRUE.\n",
    "* Sabe-se também que B é TRUE\n",
    "* Portanto, temos TRUE resultado de NOT A e TRUE de B\n",
    "* Usamos o operador lógico de igualdade, onde A e B precisam ser TRUE para que X seja TRUE, e isso é verdade, portanto X é TRUE."
   ],
   "metadata": {
    "collapsed": false
   }
  },
  {
   "cell_type": "code",
   "execution_count": 8,
   "outputs": [],
   "source": [],
   "metadata": {
    "collapsed": false
   }
  }
 ]
}
