{
 "nbformat": 4,
 "nbformat_minor": 0,
 "metadata": {
  "colab": {
   "name": "module_2_exercise.ipynb",
   "provenance": [],
   "collapsed_sections": [],
   "toc_visible": true
  },
  "kernelspec": {
   "name": "python3",
   "display_name": "Python 3"
  }
 },
 "cells": [
  {
   "cell_type": "markdown",
   "metadata": {
    "id": "KJqp9AANOCtf"
   },
   "source": [
    "<img src=\"https://raw.githubusercontent.com/andre-marcos-perez/ebac-course-utils/main/media/logo/newebac_logo_black_half.png\" alt=\"ebac-logo\">\n",
    "\n",
    "---\n",
    "\n",
    "# **Módulo 02** | Python: Estruturas de Dados\n",
    "Caderno de **Exercícios**<br> \n",
    "Professor [André Perez](https://www.linkedin.com/in/andremarcosperez/)\n",
    "\n",
    "---"
   ]
  },
  {
   "cell_type": "markdown",
   "metadata": {
    "id": "d9jDtUbDOE1-"
   },
   "source": [
    "# **Tópicos**\n",
    "\n",
    "<ol type=\"1\">\n",
    "  <li>Listas;</li>\n",
    "  <li>Conjuntos;</li>\n",
    "  <li>Dicionários.</li>\n",
    "</ol>"
   ]
  },
  {
   "cell_type": "markdown",
   "metadata": {
    "id": "SmoHgt-lwkpD"
   },
   "source": [
    "---"
   ]
  },
  {
   "cell_type": "markdown",
   "metadata": {
    "id": "GABI6OW8OfQ2"
   },
   "source": [
    "# **Exercícios**"
   ]
  },
  {
   "cell_type": "markdown",
   "metadata": {
    "id": "muD1vxozykSC"
   },
   "source": [
    "## 1\\. Listas"
   ]
  },
  {
   "cell_type": "markdown",
   "metadata": {
    "id": "ahrFfCuBxJKs"
   },
   "source": [
    "Criei uma lista chamada `filmes` com o nome dos 10 primeiros filmes mais bem avaliados no site no [IMDB](https://www.imdb.com/chart/top/). Imprima o resultado."
   ]
  },
  {
   "cell_type": "code",
   "metadata": {
    "id": "OgL6Hv3bzOHI"
   },
   "source": [
    "filmes = [\n",
    "    'The Shawshank Redemption (1994)',\n",
    "    'The Godfather (1972)',\n",
    "    'The Dark Knight (2008)',\n",
    "    'The Godfather Part II (1974)',\n",
    "    '12 Angry Men (1957)',\n",
    "    'Schindler\\'s List (1993)',\n",
    "    'The Lord of the Rings: The Return of the King (2003)',\n",
    "    'Pulp Fiction (1994)',\n",
    "    'The Lord of the Rings: The Fellowship of the Ring (2001)',\n",
    "    'The Good, the Bad and the Ugly  (1966)',\n",
    "]\n",
    "\n",
    "print(filmes)"
   ],
   "execution_count": 13,
   "outputs": [
    {
     "name": "stdout",
     "output_type": "stream",
     "text": [
      "['The Shawshank Redemption (1994)', 'The Godfather (1972)', 'The Dark Knight (2008)', 'The Godfather Part II (1974)', '12 Angry Men (1957)', \"Schindler's List (1993)\", 'The Lord of the Rings: The Return of the King (2003)', 'Pulp Fiction (1994)', 'The Lord of the Rings: The Fellowship of the Ring (2001)', 'The Good, the Bad and the Ugly  (1966)']\n"
     ]
    }
   ]
  },
  {
   "cell_type": "markdown",
   "metadata": {
    "id": "KI9zQRT2xa7m"
   },
   "source": [
    "Simule a movimentação do *ranking*. Utilize os métodos `insert` e `pop` para trocar a posição do primeiro e do segundo filme da lista. Imprima o resultado."
   ]
  },
  {
   "cell_type": "code",
   "metadata": {
    "id": "zX3mA3_GzrXH"
   },
   "source": [
    "primeiro_filme = filmes.pop(0)\n",
    "segundo_filme = filmes.pop(0)\n",
    "filmes.insert(0, segundo_filme)\n",
    "filmes.insert(1, primeiro_filme)\n",
    "\n",
    "print(filmes)"
   ],
   "execution_count": 14,
   "outputs": [
    {
     "name": "stdout",
     "output_type": "stream",
     "text": [
      "['The Godfather (1972)', 'The Shawshank Redemption (1994)', 'The Dark Knight (2008)', 'The Godfather Part II (1974)', '12 Angry Men (1957)', \"Schindler's List (1993)\", 'The Lord of the Rings: The Return of the King (2003)', 'Pulp Fiction (1994)', 'The Lord of the Rings: The Fellowship of the Ring (2001)', 'The Good, the Bad and the Ugly  (1966)']\n"
     ]
    }
   ]
  },
  {
   "cell_type": "markdown",
   "metadata": {
    "id": "lxa5L6uF0ZJE"
   },
   "source": [
    "## 2\\. Conjuntos"
   ]
  },
  {
   "cell_type": "markdown",
   "metadata": {
    "id": "9JahS2Kj0d5u"
   },
   "source": [
    "Aconteceu um erro no seu *ranking*. Simule a duplicação dos três últimos filmes da lista. Imprima o resultado."
   ]
  },
  {
   "cell_type": "code",
   "metadata": {
    "id": "BnjnLBNC6PGe"
   },
   "source": [
    "filmes_com_duplicatas = filmes.copy()\n",
    "filmes_com_duplicatas.append(filmes[0])\n",
    "filmes_com_duplicatas.append(filmes[1])\n",
    "filmes_com_duplicatas.append(filmes[2])\n",
    "\n",
    "print(filmes_com_duplicatas)"
   ],
   "execution_count": 15,
   "outputs": [
    {
     "name": "stdout",
     "output_type": "stream",
     "text": [
      "['The Godfather (1972)', 'The Shawshank Redemption (1994)', 'The Dark Knight (2008)', 'The Godfather Part II (1974)', '12 Angry Men (1957)', \"Schindler's List (1993)\", 'The Lord of the Rings: The Return of the King (2003)', 'Pulp Fiction (1994)', 'The Lord of the Rings: The Fellowship of the Ring (2001)', 'The Good, the Bad and the Ugly  (1966)', 'The Godfather (1972)', 'The Shawshank Redemption (1994)', 'The Dark Knight (2008)']\n"
     ]
    }
   ]
  },
  {
   "cell_type": "markdown",
   "metadata": {
    "id": "suxTfCJB6ZiX"
   },
   "source": [
    "Utiliza a conversão `set` e `list` para remover os valores duplicados. Imprima o resultado. "
   ]
  },
  {
   "cell_type": "code",
   "metadata": {
    "id": "ZvUGN-0n6joM"
   },
   "source": [
    "# O problema de fazer isso que solicitou é que perde a ordem dos elementos\n",
    "filmes_unicos = list(set(filmes))\n",
    "\n",
    "print(filmes_unicos)"
   ],
   "execution_count": 16,
   "outputs": [
    {
     "name": "stdout",
     "output_type": "stream",
     "text": [
      "[\"Schindler's List (1993)\", 'The Lord of the Rings: The Fellowship of the Ring (2001)', 'The Godfather (1972)', 'The Shawshank Redemption (1994)', 'The Lord of the Rings: The Return of the King (2003)', 'The Dark Knight (2008)', 'The Godfather Part II (1974)', 'The Good, the Bad and the Ugly  (1966)', 'Pulp Fiction (1994)', '12 Angry Men (1957)']\n"
     ]
    }
   ]
  },
  {
   "cell_type": "markdown",
   "metadata": {
    "id": "EL_FzmxL6rTv"
   },
   "source": [
    "## 3\\. Dicionários"
   ]
  },
  {
   "cell_type": "markdown",
   "metadata": {
    "id": "i8l0gFqRCpfT"
   },
   "source": [
    "Repita os exercícios da parte 1 (listas). Os elementos da lista `filmes` devem ser dicionários no seguinte formato: `{'nome': <nome-do-filme>, 'ano': <ano do filme>}, 'sinopse': <sinopse do filme>}`."
   ]
  },
  {
   "cell_type": "code",
   "execution_count": 17,
   "outputs": [
    {
     "name": "stdout",
     "output_type": "stream",
     "text": [
      "[{'nome': 'The Shawshank Redemption', 'ano': 1994, 'snipose': 'Over the course of several years, two convicts form a friendship, seeking consolation and, eventually, redemption through basic compassion.'}, {'nome': 'The Godfather', 'ano': 1972, 'snipose': 'The aging patriarch of an organized crime dynasty in postwar New York City transfers control of his clandestine empire to his reluctant youngest son.'}, {'nome': 'The Dark Knight', 'ano': 2008, 'snipose': 'When the menace known as the Joker wreaks havoc and chaos on the people of Gotham, Batman must accept one of the greatest psychological and physical tests of his ability to fight injustice.'}, {'nome': 'The Godfather Part II', 'ano': 1974, 'snipose': 'The early life and career of Vito Corleone in 1920s New York City is portrayed, while his son, Michael, expands and tightens his grip on the family crime syndicate.'}, {'nome': '12 Angry Men', 'ano': 1957, 'snipose': 'The jury in a New York City murder trial is frustrated by a single member whose skeptical caution forces them to more carefully consider the evidence before jumping to a hasty verdict.'}, {'nome': \"Schindler's List\", 'ano': 1993, 'snipose': 'In German-occupied Poland during World War II, industrialist Oskar Schindler gradually becomes concerned for his Jewish workforce after witnessing their persecution by the Nazis.'}, {'nome': 'The Lord of the Rings: The Return of the King', 'ano': 2003, 'snipose': \"Gandalf and Aragorn lead the World of Men against Sauron's army to draw his gaze from Frodo and Sam as they approach Mount Doom with the One Ring.\"}, {'nome': 'Pulp Fiction', 'ano': 1994, 'snipose': 'The lives of two mob hitmen, a boxer, a gangster and his wife, and a pair of diner bandits intertwine in four tales of violence and redemption.'}, {'nome': 'The Lord of the Rings: The Fellowship of the Ring', 'ano': 2001, 'snipose': 'A meek Hobbit from the Shire and eight companions set out on a journey to destroy the powerful One Ring and save Middle-earth from the Dark Lord Sauron.'}, {'nome': 'The Good, the Bad and the Ugly', 'ano': 1966, 'snipose': 'A bounty hunting scam joins two men in an uneasy alliance against a third in a race to find a fortune in gold buried in a remote cemetery.'}]\n"
     ]
    }
   ],
   "source": [
    "filmes_metadados = filmes = [\n",
    "    {\n",
    "        'nome': 'The Shawshank Redemption',\n",
    "        'ano': 1994,\n",
    "        'snipose': 'Over the course of several years, two convicts form a friendship, seeking consolation and, eventually, redemption through basic compassion.'\n",
    "    },\n",
    "    {\n",
    "        'nome': 'The Godfather',\n",
    "        'ano': 1972,\n",
    "        'snipose': 'The aging patriarch of an organized crime dynasty in postwar New York City transfers control of his clandestine empire to his reluctant youngest son.'\n",
    "    },\n",
    "    {\n",
    "        'nome': 'The Dark Knight',\n",
    "        'ano': 2008,\n",
    "        'snipose': 'When the menace known as the Joker wreaks havoc and chaos on the people of Gotham, Batman must accept one of the greatest psychological and physical tests of his ability to fight injustice.'\n",
    "    },\n",
    "    {\n",
    "        'nome': 'The Godfather Part II',\n",
    "        'ano': 1974,\n",
    "        'snipose': 'The early life and career of Vito Corleone in 1920s New York City is portrayed, while his son, Michael, expands and tightens his grip on the family crime syndicate.'\n",
    "    },\n",
    "    {\n",
    "        'nome': '12 Angry Men',\n",
    "        'ano': 1957,\n",
    "        'snipose': 'The jury in a New York City murder trial is frustrated by a single member whose skeptical caution forces them to more carefully consider the evidence before jumping to a hasty verdict.'\n",
    "    },\n",
    "    {\n",
    "        'nome': 'Schindler\\'s List',\n",
    "        'ano': 1993,\n",
    "        'snipose': 'In German-occupied Poland during World War II, industrialist Oskar Schindler gradually becomes concerned for his Jewish workforce after witnessing their persecution by the Nazis.'\n",
    "    },\n",
    "    {\n",
    "        'nome': 'The Lord of the Rings: The Return of the King',\n",
    "        'ano': 2003,\n",
    "        'snipose': 'Gandalf and Aragorn lead the World of Men against Sauron\\'s army to draw his gaze from Frodo and Sam as they approach Mount Doom with the One Ring.'\n",
    "    },\n",
    "    {\n",
    "        'nome': 'Pulp Fiction',\n",
    "        'ano': 1994,\n",
    "        'snipose': 'The lives of two mob hitmen, a boxer, a gangster and his wife, and a pair of diner bandits intertwine in four tales of violence and redemption.'\n",
    "    },\n",
    "    {\n",
    "        'nome': 'The Lord of the Rings: The Fellowship of the Ring',\n",
    "        'ano': 2001,\n",
    "        'snipose': 'A meek Hobbit from the Shire and eight companions set out on a journey to destroy the powerful One Ring and save Middle-earth from the Dark Lord Sauron.'\n",
    "    },\n",
    "    {\n",
    "        'nome': 'The Good, the Bad and the Ugly',\n",
    "        'ano': 1966,\n",
    "        'snipose': 'A bounty hunting scam joins two men in an uneasy alliance against a third in a race to find a fortune in gold buried in a remote cemetery.'\n",
    "    }\n",
    "]\n",
    "\n",
    "print(filmes_metadados)"
   ],
   "metadata": {
    "collapsed": false
   }
  },
  {
   "cell_type": "code",
   "execution_count": 17,
   "outputs": [],
   "source": [],
   "metadata": {
    "collapsed": false
   }
  }
 ]
}
